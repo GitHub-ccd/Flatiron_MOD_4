{
 "cells": [
  {
   "cell_type": "markdown",
   "metadata": {
    "colab_type": "text",
    "id": "0FM06X-lelwR"
   },
   "source": [
    "# Using Pretrained Networks - keras - VGG19  \n",
    "\n",
    "objective: Use Keras to implement feature engineering and fine tuning on a pre-trained model "
   ]
  },
  {
   "cell_type": "code",
   "execution_count": 1,
   "metadata": {
    "colab": {
     "base_uri": "https://localhost:8080/",
     "height": 124
    },
    "colab_type": "code",
    "executionInfo": {
     "elapsed": 29093,
     "status": "ok",
     "timestamp": 1593415726115,
     "user": {
      "displayName": "chamila dharmawardhana",
      "photoUrl": "https://lh3.googleusercontent.com/a-/AOh14GiMQL71je5gYAe__JMO5G3ZCfpatswl8ZaS0hraFw=s64",
      "userId": "10886394829232968298"
     },
     "user_tz": 300
    },
    "id": "Bq6naEspe0kc",
    "outputId": "0fa67f08-f140-473c-eabb-061d68044345"
   },
   "outputs": [
    {
     "name": "stdout",
     "output_type": "stream",
     "text": [
      "Go to this URL in a browser: https://accounts.google.com/o/oauth2/auth?client_id=947318989803-6bn6qk8qdgf4n4g3pfee6491hc0brc4i.apps.googleusercontent.com&redirect_uri=urn%3aietf%3awg%3aoauth%3a2.0%3aoob&response_type=code&scope=email%20https%3a%2f%2fwww.googleapis.com%2fauth%2fdocs.test%20https%3a%2f%2fwww.googleapis.com%2fauth%2fdrive%20https%3a%2f%2fwww.googleapis.com%2fauth%2fdrive.photos.readonly%20https%3a%2f%2fwww.googleapis.com%2fauth%2fpeopleapi.readonly\n",
      "\n",
      "Enter your authorization code:\n",
      "··········\n",
      "Mounted at /content/gdrive\n"
     ]
    }
   ],
   "source": [
    "from google.colab import drive\n",
    "drive.mount('/content/gdrive')"
   ]
  },
  {
   "cell_type": "code",
   "execution_count": 2,
   "metadata": {
    "colab": {
     "base_uri": "https://localhost:8080/",
     "height": 35
    },
    "colab_type": "code",
    "executionInfo": {
     "elapsed": 2121,
     "status": "ok",
     "timestamp": 1593415732129,
     "user": {
      "displayName": "chamila dharmawardhana",
      "photoUrl": "https://lh3.googleusercontent.com/a-/AOh14GiMQL71je5gYAe__JMO5G3ZCfpatswl8ZaS0hraFw=s64",
      "userId": "10886394829232968298"
     },
     "user_tz": 300
    },
    "id": "MBh7hYzbfSo2",
    "outputId": "1226ecb7-d6bb-4b11-d39a-61ed55cc5d52"
   },
   "outputs": [
    {
     "name": "stdout",
     "output_type": "stream",
     "text": [
      "['test', 'train', 'val']\n"
     ]
    }
   ],
   "source": [
    "import os \n",
    "print(os.listdir(\"/content/gdrive/My Drive/Flatiron_school/Flatiron_MOD_4/Convolutional_Neural_Networks/dsc-building-a-cnn-from-scratch-onl01-dtsc-ft-030220/chest_xray_downsampled\"))"
   ]
  },
  {
   "cell_type": "code",
   "execution_count": 3,
   "metadata": {
    "colab": {
     "base_uri": "https://localhost:8080/",
     "height": 35
    },
    "colab_type": "code",
    "executionInfo": {
     "elapsed": 1940,
     "status": "ok",
     "timestamp": 1593415740435,
     "user": {
      "displayName": "chamila dharmawardhana",
      "photoUrl": "https://lh3.googleusercontent.com/a-/AOh14GiMQL71je5gYAe__JMO5G3ZCfpatswl8ZaS0hraFw=s64",
      "userId": "10886394829232968298"
     },
     "user_tz": 300
    },
    "id": "BGfmIwSFelwW",
    "outputId": "d83c5914-a4f5-45c7-fd70-cd4c569ba33f"
   },
   "outputs": [
    {
     "name": "stderr",
     "output_type": "stream",
     "text": [
      "Using TensorFlow backend.\n"
     ]
    }
   ],
   "source": [
    "import os, shutil\n",
    "import time\n",
    "import matplotlib.pyplot as plt\n",
    "%matplotlib inline\n",
    "import scipy\n",
    "import numpy as np\n",
    "from PIL import Image\n",
    "from scipy import ndimage\n",
    "from keras.preprocessing.image import ImageDataGenerator, array_to_img\n",
    "\n",
    "np.random.seed(123)"
   ]
  },
  {
   "cell_type": "code",
   "execution_count": 4,
   "metadata": {
    "colab": {},
    "colab_type": "code",
    "executionInfo": {
     "elapsed": 628,
     "status": "ok",
     "timestamp": 1593415743296,
     "user": {
      "displayName": "chamila dharmawardhana",
      "photoUrl": "https://lh3.googleusercontent.com/a-/AOh14GiMQL71je5gYAe__JMO5G3ZCfpatswl8ZaS0hraFw=s64",
      "userId": "10886394829232968298"
     },
     "user_tz": 300
    },
    "id": "HQC-8RkqelwZ"
   },
   "outputs": [],
   "source": [
    "train_folder = '/content/gdrive/My Drive/Flatiron_school/Flatiron_MOD_4/Convolutional_Neural_Networks/dsc-building-a-cnn-from-scratch-onl01-dtsc-ft-030220/chest_xray_downsampled/train'\n",
    "test_folder = '/content/gdrive/My Drive/Flatiron_school/Flatiron_MOD_4/Convolutional_Neural_Networks/dsc-building-a-cnn-from-scratch-onl01-dtsc-ft-030220/chest_xray_downsampled/test'\n",
    "val_folder = '/content/gdrive/My Drive/Flatiron_school/Flatiron_MOD_4/Convolutional_Neural_Networks/dsc-building-a-cnn-from-scratch-onl01-dtsc-ft-030220/chest_xray_downsampled/val'"
   ]
  },
  {
   "cell_type": "code",
   "execution_count": 5,
   "metadata": {
    "colab": {},
    "colab_type": "code",
    "executionInfo": {
     "elapsed": 566,
     "status": "ok",
     "timestamp": 1593415751791,
     "user": {
      "displayName": "chamila dharmawardhana",
      "photoUrl": "https://lh3.googleusercontent.com/a-/AOh14GiMQL71je5gYAe__JMO5G3ZCfpatswl8ZaS0hraFw=s64",
      "userId": "10886394829232968298"
     },
     "user_tz": 300
    },
    "id": "zKtn0cCdelwb"
   },
   "outputs": [],
   "source": [
    "datagen = ImageDataGenerator(rescale=1./255) \n",
    "batch_size = 10"
   ]
  },
  {
   "cell_type": "markdown",
   "metadata": {
    "colab_type": "text",
    "id": "epijZKZvelwd"
   },
   "source": [
    "## VGG19: Feature extraction"
   ]
  },
  {
   "cell_type": "code",
   "execution_count": 6,
   "metadata": {
    "colab": {
     "base_uri": "https://localhost:8080/",
     "height": 52
    },
    "colab_type": "code",
    "executionInfo": {
     "elapsed": 12638,
     "status": "ok",
     "timestamp": 1593415776479,
     "user": {
      "displayName": "chamila dharmawardhana",
      "photoUrl": "https://lh3.googleusercontent.com/a-/AOh14GiMQL71je5gYAe__JMO5G3ZCfpatswl8ZaS0hraFw=s64",
      "userId": "10886394829232968298"
     },
     "user_tz": 300
    },
    "id": "9pqCW7umelwe",
    "outputId": "e6bd9d36-aa52-4cea-abef-d2aad916616f"
   },
   "outputs": [
    {
     "name": "stdout",
     "output_type": "stream",
     "text": [
      "Downloading data from https://github.com/fchollet/deep-learning-models/releases/download/v0.1/vgg19_weights_tf_dim_ordering_tf_kernels_notop.h5\n",
      "80142336/80134624 [==============================] - 3s 0us/step\n"
     ]
    }
   ],
   "source": [
    "from keras.applications import VGG19\n",
    "cnn_base = VGG19(weights='imagenet', \n",
    "                 include_top=False, \n",
    "                 input_shape=(150, 150, 3))"
   ]
  },
  {
   "cell_type": "code",
   "execution_count": 7,
   "metadata": {
    "colab": {
     "base_uri": "https://localhost:8080/",
     "height": 919
    },
    "colab_type": "code",
    "executionInfo": {
     "elapsed": 7750,
     "status": "ok",
     "timestamp": 1593415776483,
     "user": {
      "displayName": "chamila dharmawardhana",
      "photoUrl": "https://lh3.googleusercontent.com/a-/AOh14GiMQL71je5gYAe__JMO5G3ZCfpatswl8ZaS0hraFw=s64",
      "userId": "10886394829232968298"
     },
     "user_tz": 300
    },
    "id": "HpuYbedGelwg",
    "outputId": "a67d94c0-9ffa-482e-b166-c2255c1db1d1"
   },
   "outputs": [
    {
     "name": "stdout",
     "output_type": "stream",
     "text": [
      "Model: \"vgg19\"\n",
      "_________________________________________________________________\n",
      "Layer (type)                 Output Shape              Param #   \n",
      "=================================================================\n",
      "input_1 (InputLayer)         (None, 150, 150, 3)       0         \n",
      "_________________________________________________________________\n",
      "block1_conv1 (Conv2D)        (None, 150, 150, 64)      1792      \n",
      "_________________________________________________________________\n",
      "block1_conv2 (Conv2D)        (None, 150, 150, 64)      36928     \n",
      "_________________________________________________________________\n",
      "block1_pool (MaxPooling2D)   (None, 75, 75, 64)        0         \n",
      "_________________________________________________________________\n",
      "block2_conv1 (Conv2D)        (None, 75, 75, 128)       73856     \n",
      "_________________________________________________________________\n",
      "block2_conv2 (Conv2D)        (None, 75, 75, 128)       147584    \n",
      "_________________________________________________________________\n",
      "block2_pool (MaxPooling2D)   (None, 37, 37, 128)       0         \n",
      "_________________________________________________________________\n",
      "block3_conv1 (Conv2D)        (None, 37, 37, 256)       295168    \n",
      "_________________________________________________________________\n",
      "block3_conv2 (Conv2D)        (None, 37, 37, 256)       590080    \n",
      "_________________________________________________________________\n",
      "block3_conv3 (Conv2D)        (None, 37, 37, 256)       590080    \n",
      "_________________________________________________________________\n",
      "block3_conv4 (Conv2D)        (None, 37, 37, 256)       590080    \n",
      "_________________________________________________________________\n",
      "block3_pool (MaxPooling2D)   (None, 18, 18, 256)       0         \n",
      "_________________________________________________________________\n",
      "block4_conv1 (Conv2D)        (None, 18, 18, 512)       1180160   \n",
      "_________________________________________________________________\n",
      "block4_conv2 (Conv2D)        (None, 18, 18, 512)       2359808   \n",
      "_________________________________________________________________\n",
      "block4_conv3 (Conv2D)        (None, 18, 18, 512)       2359808   \n",
      "_________________________________________________________________\n",
      "block4_conv4 (Conv2D)        (None, 18, 18, 512)       2359808   \n",
      "_________________________________________________________________\n",
      "block4_pool (MaxPooling2D)   (None, 9, 9, 512)         0         \n",
      "_________________________________________________________________\n",
      "block5_conv1 (Conv2D)        (None, 9, 9, 512)         2359808   \n",
      "_________________________________________________________________\n",
      "block5_conv2 (Conv2D)        (None, 9, 9, 512)         2359808   \n",
      "_________________________________________________________________\n",
      "block5_conv3 (Conv2D)        (None, 9, 9, 512)         2359808   \n",
      "_________________________________________________________________\n",
      "block5_conv4 (Conv2D)        (None, 9, 9, 512)         2359808   \n",
      "_________________________________________________________________\n",
      "block5_pool (MaxPooling2D)   (None, 4, 4, 512)         0         \n",
      "=================================================================\n",
      "Total params: 20,024,384\n",
      "Trainable params: 20,024,384\n",
      "Non-trainable params: 0\n",
      "_________________________________________________________________\n"
     ]
    }
   ],
   "source": [
    "cnn_base.summary()"
   ]
  },
  {
   "cell_type": "code",
   "execution_count": 8,
   "metadata": {
    "colab": {},
    "colab_type": "code",
    "executionInfo": {
     "elapsed": 771,
     "status": "ok",
     "timestamp": 1593415800754,
     "user": {
      "displayName": "chamila dharmawardhana",
      "photoUrl": "https://lh3.googleusercontent.com/a-/AOh14GiMQL71je5gYAe__JMO5G3ZCfpatswl8ZaS0hraFw=s64",
      "userId": "10886394829232968298"
     },
     "user_tz": 300
    },
    "id": "P12Qe9I8elwi"
   },
   "outputs": [],
   "source": [
    "def extract_features(directory, sample_amount):\n",
    "    features = np.zeros(shape=(sample_amount, 4, 4, 512)) \n",
    "    labels = np.zeros(shape=(sample_amount))\n",
    "    generator = datagen.flow_from_directory(\n",
    "        directory, target_size=(150, 150), \n",
    "        batch_size = 10, \n",
    "        class_mode='binary')\n",
    "    i=0\n",
    "    for inputs_batch, labels_batch in generator:\n",
    "        features_batch = cnn_base.predict(inputs_batch)\n",
    "        features[i * batch_size : (i + 1) * batch_size] = features_batch \n",
    "        labels[i * batch_size : (i + 1) * batch_size] = labels_batch\n",
    "        i = i + 1\n",
    "        if i * batch_size >= sample_amount:\n",
    "            break\n",
    "    return features, labels"
   ]
  },
  {
   "cell_type": "code",
   "execution_count": 9,
   "metadata": {
    "colab": {
     "base_uri": "https://localhost:8080/",
     "height": 69
    },
    "colab_type": "code",
    "executionInfo": {
     "elapsed": 911313,
     "status": "ok",
     "timestamp": 1593416717552,
     "user": {
      "displayName": "chamila dharmawardhana",
      "photoUrl": "https://lh3.googleusercontent.com/a-/AOh14GiMQL71je5gYAe__JMO5G3ZCfpatswl8ZaS0hraFw=s64",
      "userId": "10886394829232968298"
     },
     "user_tz": 300
    },
    "id": "xp8Shv6celwl",
    "outputId": "e1fd4a03-dc23-45dd-f08f-5c96e0ba7703"
   },
   "outputs": [
    {
     "name": "stdout",
     "output_type": "stream",
     "text": [
      "Found 1738 images belonging to 2 classes.\n",
      "Found 4 images belonging to 2 classes.\n",
      "Found 208 images belonging to 2 classes.\n"
     ]
    }
   ],
   "source": [
    "# You should be able to divide sample_amount by batch_size\n",
    "ntrain=1738\n",
    "nval=4\n",
    "ntest=208\n",
    "train_features, train_labels = extract_features(train_folder, ntrain) \n",
    "validation_features, validation_labels = extract_features(val_folder, nval) \n",
    "test_features, test_labels = extract_features(test_folder, ntest)\n",
    "\n",
    "train_features = np.reshape(train_features, (ntrain, 4 * 4 * 512))\n",
    "validation_features = np.reshape(validation_features, (nval, 4 * 4 * 512))\n",
    "test_features = np.reshape(test_features, (ntest, 4 * 4 * 512))"
   ]
  },
  {
   "cell_type": "code",
   "execution_count": 11,
   "metadata": {
    "colab": {
     "base_uri": "https://localhost:8080/",
     "height": 416
    },
    "colab_type": "code",
    "executionInfo": {
     "elapsed": 8632,
     "status": "ok",
     "timestamp": 1593417472259,
     "user": {
      "displayName": "chamila dharmawardhana",
      "photoUrl": "https://lh3.googleusercontent.com/a-/AOh14GiMQL71je5gYAe__JMO5G3ZCfpatswl8ZaS0hraFw=s64",
      "userId": "10886394829232968298"
     },
     "user_tz": 300
    },
    "id": "YhHTSwJJelwo",
    "outputId": "d7dab6dd-0188-4495-d6b8-f92ccdf90073"
   },
   "outputs": [
    {
     "name": "stdout",
     "output_type": "stream",
     "text": [
      "Train on 1738 samples, validate on 4 samples\n",
      "Epoch 1/11\n",
      "1738/1738 [==============================] - 1s 486us/step - loss: 0.2262 - acc: 0.9056 - val_loss: 0.1304 - val_acc: 1.0000\n",
      "Epoch 2/11\n",
      "1738/1738 [==============================] - 1s 394us/step - loss: 0.1354 - acc: 0.9436 - val_loss: 0.2378 - val_acc: 0.7500\n",
      "Epoch 3/11\n",
      "1738/1738 [==============================] - 1s 381us/step - loss: 0.1052 - acc: 0.9603 - val_loss: 0.0519 - val_acc: 1.0000\n",
      "Epoch 4/11\n",
      "1738/1738 [==============================] - 1s 395us/step - loss: 0.0929 - acc: 0.9672 - val_loss: 0.0771 - val_acc: 1.0000\n",
      "Epoch 5/11\n",
      "1738/1738 [==============================] - 1s 391us/step - loss: 0.0780 - acc: 0.9712 - val_loss: 0.0456 - val_acc: 1.0000\n",
      "Epoch 6/11\n",
      "1738/1738 [==============================] - 1s 405us/step - loss: 0.0667 - acc: 0.9753 - val_loss: 0.0235 - val_acc: 1.0000\n",
      "Epoch 7/11\n",
      "1738/1738 [==============================] - 1s 401us/step - loss: 0.0606 - acc: 0.9776 - val_loss: 0.0422 - val_acc: 1.0000\n",
      "Epoch 8/11\n",
      "1738/1738 [==============================] - 1s 395us/step - loss: 0.0523 - acc: 0.9753 - val_loss: 0.0222 - val_acc: 1.0000\n",
      "Epoch 9/11\n",
      "1738/1738 [==============================] - 1s 390us/step - loss: 0.0499 - acc: 0.9804 - val_loss: 0.0299 - val_acc: 1.0000\n",
      "Epoch 10/11\n",
      "1738/1738 [==============================] - 1s 417us/step - loss: 0.0413 - acc: 0.9879 - val_loss: 0.0194 - val_acc: 1.0000\n",
      "Epoch 11/11\n",
      "1738/1738 [==============================] - 1s 404us/step - loss: 0.0396 - acc: 0.9833 - val_loss: 0.0395 - val_acc: 1.0000\n"
     ]
    }
   ],
   "source": [
    "from keras import models\n",
    "from keras import layers\n",
    "from keras import optimizers\n",
    "\n",
    "model = models.Sequential()\n",
    "model.add(layers.Dense(256, activation='relu', input_dim=4*4*512))\n",
    "model.add(layers.Dense(1, activation='sigmoid'))\n",
    "\n",
    "model.compile(optimizer=optimizers.RMSprop(lr=1e-4),\n",
    "              loss='binary_crossentropy',\n",
    "              metrics=['acc'])\n",
    "\n",
    "history = model.fit(train_features, train_labels,\n",
    "                    epochs=11,\n",
    "                    batch_size=10,\n",
    "                    validation_data=(validation_features, validation_labels))"
   ]
  },
  {
   "cell_type": "code",
   "execution_count": 12,
   "metadata": {
    "colab": {
     "base_uri": "https://localhost:8080/",
     "height": 52
    },
    "colab_type": "code",
    "executionInfo": {
     "elapsed": 627,
     "status": "ok",
     "timestamp": 1593417476653,
     "user": {
      "displayName": "chamila dharmawardhana",
      "photoUrl": "https://lh3.googleusercontent.com/a-/AOh14GiMQL71je5gYAe__JMO5G3ZCfpatswl8ZaS0hraFw=s64",
      "userId": "10886394829232968298"
     },
     "user_tz": 300
    },
    "id": "NM69Gon8elwq",
    "outputId": "3a5da8b2-de66-4618-d8dd-7b5fdc5269a6"
   },
   "outputs": [
    {
     "name": "stdout",
     "output_type": "stream",
     "text": [
      "208/208 [==============================] - 0s 130us/step\n"
     ]
    },
    {
     "data": {
      "text/plain": [
       "[0.8940034233606778, 0.7596153616905212]"
      ]
     },
     "execution_count": 12,
     "metadata": {
      "tags": []
     },
     "output_type": "execute_result"
    }
   ],
   "source": [
    "results_test = model.evaluate(test_features, test_labels)\n",
    "results_test"
   ]
  },
  {
   "cell_type": "code",
   "execution_count": 13,
   "metadata": {
    "colab": {
     "base_uri": "https://localhost:8080/",
     "height": 545
    },
    "colab_type": "code",
    "executionInfo": {
     "elapsed": 760,
     "status": "ok",
     "timestamp": 1593417485622,
     "user": {
      "displayName": "chamila dharmawardhana",
      "photoUrl": "https://lh3.googleusercontent.com/a-/AOh14GiMQL71je5gYAe__JMO5G3ZCfpatswl8ZaS0hraFw=s64",
      "userId": "10886394829232968298"
     },
     "user_tz": 300
    },
    "id": "xzx8DPooelws",
    "outputId": "08d1b932-cc50-4a69-f065-425a9d936375"
   },
   "outputs": [
    {
     "data": {
      "image/png": "[encoded data removed]",
      "text/plain": [
       "<Figure size 432x288 with 1 Axes>"
      ]
     },
     "metadata": {
      "needs_background": "light",
      "tags": []
     },
     "output_type": "display_data"
    },
    {
     "data": {
      "image/png": "[encoded data removed]",
      "text/plain": [
       "<Figure size 432x288 with 1 Axes>"
      ]
     },
     "metadata": {
      "needs_background": "light",
      "tags": []
     },
     "output_type": "display_data"
    }
   ],
   "source": [
    "train_acc = history.history['acc']\n",
    "val_acc = history.history['val_acc']\n",
    "train_loss = history.history['loss']\n",
    "val_loss = history.history['val_loss']\n",
    "epch = range(1, len(train_acc) + 1)\n",
    "plt.plot(epch, train_acc, 'g.', label='Training Accuracy')\n",
    "plt.plot(epch, val_acc, 'g', label='Validation acc')\n",
    "plt.title('Accuracy')\n",
    "plt.legend()\n",
    "plt.figure()\n",
    "plt.plot(epch, train_loss, 'r.', label='Training loss')\n",
    "plt.plot(epch, val_loss, 'r', label='Validation loss')\n",
    "plt.title('Loss')\n",
    "plt.legend()\n",
    "plt.show()"
   ]
  },
  {
   "cell_type": "code",
   "execution_count": 23,
   "metadata": {
    "colab": {
     "base_uri": "https://localhost:8080/",
     "height": 139
    },
    "colab_type": "code",
    "executionInfo": {
     "elapsed": 510,
     "status": "ok",
     "timestamp": 1593418449888,
     "user": {
      "displayName": "chamila dharmawardhana",
      "photoUrl": "https://lh3.googleusercontent.com/a-/AOh14GiMQL71je5gYAe__JMO5G3ZCfpatswl8ZaS0hraFw=s64",
      "userId": "10886394829232968298"
     },
     "user_tz": 300
    },
    "id": "OIpfvKRdIl-J",
    "outputId": "25c0a76b-f4f5-47bb-ce5b-fe0b7b77a843"
   },
   "outputs": [
    {
     "name": "stdout",
     "output_type": "stream",
     "text": [
      "[[0.29550657 0.         0.         ... 0.         0.91232586 0.        ]\n",
      " [0.72461331 0.         0.         ... 0.         1.01243043 0.        ]\n",
      " [0.63192403 0.         0.         ... 0.         1.16347873 0.        ]\n",
      " ...\n",
      " [0.79753339 0.         0.         ... 0.         1.15057254 0.        ]\n",
      " [0.59665471 0.         0.         ... 0.         0.9875381  0.        ]\n",
      " [1.47907948 0.         0.         ... 0.         0.63626063 0.        ]]\n"
     ]
    }
   ],
   "source": [
    "#preds = model.predict_generator(test_features, steps=50)\n",
    "print(test_features)\n",
    "#cm = confusion_matrix(test_labels, np.round(preds))\n",
    "#print(cm)"
   ]
  },
  {
   "cell_type": "code",
   "execution_count": 19,
   "metadata": {
    "colab": {},
    "colab_type": "code",
    "executionInfo": {
     "elapsed": 677,
     "status": "ok",
     "timestamp": 1593418184161,
     "user": {
      "displayName": "chamila dharmawardhana",
      "photoUrl": "https://lh3.googleusercontent.com/a-/AOh14GiMQL71je5gYAe__JMO5G3ZCfpatswl8ZaS0hraFw=s64",
      "userId": "10886394829232968298"
     },
     "user_tz": 300
    },
    "id": "HBeFtRr9GJsh"
   },
   "outputs": [],
   "source": [
    "from sklearn.metrics import accuracy_score, confusion_matrix\n",
    "import cv2\n",
    "def show_eval(model, result, generator, labels):\n",
    "    preds = model.predict_generator(generator, steps=50)\n",
    "\n",
    "    acc = accuracy_score(labels, np.round(preds))*100\n",
    "    cm = confusion_matrix(labels, np.round(preds))\n",
    "    tn, fp, fn, tp = cm.ravel()\n",
    "\n",
    "    print('CONFUSION MATRIX ------------------')\n",
    "    print(cm)\n",
    "\n",
    "    print('\\nTEST METRICS ----------------------')\n",
    "    precision = (tp/(tp+fp))*100\n",
    "    recall = (tp/(tp+fn))*100\n",
    "    print('Accuracy: {}%'.format(acc))\n",
    "    print('Precision: {}%'.format(precision))\n",
    "    print('Recall: {}%'.format(recall))\n",
    "    print('F1-score: {}'.format(2*precision*recall/(precision+recall)))\n",
    "\n",
    "    print('\\nTRAIN METRIC ----------------------')\n",
    "    print('Train acc: {}'.format(np.round((result.history['acc'][-1])*100, 2)))\n",
    "\n",
    "    classes=np.unique(labels) \n",
    "    normalize=False\n",
    "    title='Confusion matrix'\n",
    "    cmap=plt.cm.Blues\n",
    "\n",
    "\n",
    "    plt.imshow(cm, interpolation='nearest', cmap=cmap)\n",
    "    plt.title(title)\n",
    "    plt.colorbar()\n",
    "    tick_marks = np.arange(len(classes))\n",
    "    plt.xticks(tick_marks, classes, rotation=45)\n",
    "    plt.yticks(tick_marks, classes)\n",
    "\n",
    "    if normalize:\n",
    "        cm = cm.astype('float') / cm.sum(axis=1)[:, np.newaxis]\n",
    "        print(\"Normalized confusion matrix\")\n",
    "    else:\n",
    "        print('Confusion matrix, without normalization')\n",
    "\n",
    "    thresh = cm.max() / 2.\n",
    "    for i, j in itertools.product(range(cm.shape[0]), range(cm.shape[1])):\n",
    "        plt.text(j, i, cm[i, j],\n",
    "            horizontalalignment=\"center\",\n",
    "            color=\"white\" if cm[i, j] > thresh else \"black\")\n",
    "\n",
    "    plt.tight_layout()\n",
    "    plt.ylabel('True label')\n",
    "    plt.xlabel('Predicted label')    \n",
    "    \n",
    "    plt.show()"
   ]
  },
  {
   "cell_type": "code",
   "execution_count": 20,
   "metadata": {
    "colab": {
     "base_uri": "https://localhost:8080/",
     "height": 1000
    },
    "colab_type": "code",
    "executionInfo": {
     "elapsed": 639,
     "status": "error",
     "timestamp": 1593418188251,
     "user": {
      "displayName": "chamila dharmawardhana",
      "photoUrl": "https://lh3.googleusercontent.com/a-/AOh14GiMQL71je5gYAe__JMO5G3ZCfpatswl8ZaS0hraFw=s64",
      "userId": "10886394829232968298"
     },
     "user_tz": 300
    },
    "id": "78VOtefqGfaf",
    "outputId": "5ba601e2-e0a4-4263-9769-626177376b3d"
   },
   "outputs": [
    {
     "ename": "TypeError",
     "evalue": "ignored",
     "output_type": "error",
     "traceback": [
      "\u001b[0;31m---------------------------------------------------------------------------\u001b[0m",
      "\u001b[0;31mTypeError\u001b[0m                                 Traceback (most recent call last)",
      "\u001b[0;32m<ipython-input-20-22600ab92842>\u001b[0m in \u001b[0;36m<module>\u001b[0;34m()\u001b[0m\n\u001b[1;32m      1\u001b[0m \u001b[0;31m# test_features, test_labels\u001b[0m\u001b[0;34m\u001b[0m\u001b[0;34m\u001b[0m\u001b[0;34m\u001b[0m\u001b[0m\n\u001b[0;32m----> 2\u001b[0;31m \u001b[0mshow_eval\u001b[0m\u001b[0;34m(\u001b[0m\u001b[0mmodel\u001b[0m\u001b[0;34m,\u001b[0m \u001b[0mhistory\u001b[0m\u001b[0;34m,\u001b[0m \u001b[0mtest_features\u001b[0m\u001b[0;34m,\u001b[0m \u001b[0mtest_labels\u001b[0m\u001b[0;34m)\u001b[0m\u001b[0;34m\u001b[0m\u001b[0;34m\u001b[0m\u001b[0m\n\u001b[0m",
      "\u001b[0;32m<ipython-input-19-39ba301ffcbe>\u001b[0m in \u001b[0;36mshow_eval\u001b[0;34m(model, result, generator, labels)\u001b[0m\n\u001b[1;32m      2\u001b[0m \u001b[0;32mimport\u001b[0m \u001b[0mcv2\u001b[0m\u001b[0;34m\u001b[0m\u001b[0;34m\u001b[0m\u001b[0m\n\u001b[1;32m      3\u001b[0m \u001b[0;32mdef\u001b[0m \u001b[0mshow_eval\u001b[0m\u001b[0;34m(\u001b[0m\u001b[0mmodel\u001b[0m\u001b[0;34m,\u001b[0m \u001b[0mresult\u001b[0m\u001b[0;34m,\u001b[0m \u001b[0mgenerator\u001b[0m\u001b[0;34m,\u001b[0m \u001b[0mlabels\u001b[0m\u001b[0;34m)\u001b[0m\u001b[0;34m:\u001b[0m\u001b[0;34m\u001b[0m\u001b[0;34m\u001b[0m\u001b[0m\n\u001b[0;32m----> 4\u001b[0;31m     \u001b[0mpreds\u001b[0m \u001b[0;34m=\u001b[0m \u001b[0mmodel\u001b[0m\u001b[0;34m.\u001b[0m\u001b[0mpredict_generator\u001b[0m\u001b[0;34m(\u001b[0m\u001b[0mgenerator\u001b[0m\u001b[0;34m,\u001b[0m \u001b[0msteps\u001b[0m\u001b[0;34m=\u001b[0m\u001b[0;36m50\u001b[0m\u001b[0;34m)\u001b[0m\u001b[0;34m\u001b[0m\u001b[0;34m\u001b[0m\u001b[0m\n\u001b[0m\u001b[1;32m      5\u001b[0m \u001b[0;34m\u001b[0m\u001b[0m\n\u001b[1;32m      6\u001b[0m     \u001b[0macc\u001b[0m \u001b[0;34m=\u001b[0m \u001b[0maccuracy_score\u001b[0m\u001b[0;34m(\u001b[0m\u001b[0mlabels\u001b[0m\u001b[0;34m,\u001b[0m \u001b[0mnp\u001b[0m\u001b[0;34m.\u001b[0m\u001b[0mround\u001b[0m\u001b[0;34m(\u001b[0m\u001b[0mpreds\u001b[0m\u001b[0;34m)\u001b[0m\u001b[0;34m)\u001b[0m\u001b[0;34m*\u001b[0m\u001b[0;36m100\u001b[0m\u001b[0;34m\u001b[0m\u001b[0;34m\u001b[0m\u001b[0m\n",
      "\u001b[0;32m/usr/local/lib/python3.6/dist-packages/keras/legacy/interfaces.py\u001b[0m in \u001b[0;36mwrapper\u001b[0;34m(*args, **kwargs)\u001b[0m\n\u001b[1;32m     89\u001b[0m                 warnings.warn('Update your `' + object_name + '` call to the ' +\n\u001b[1;32m     90\u001b[0m                               'Keras 2 API: ' + signature, stacklevel=2)\n\u001b[0;32m---> 91\u001b[0;31m             \u001b[0;32mreturn\u001b[0m \u001b[0mfunc\u001b[0m\u001b[0;34m(\u001b[0m\u001b[0;34m*\u001b[0m\u001b[0margs\u001b[0m\u001b[0;34m,\u001b[0m \u001b[0;34m**\u001b[0m\u001b[0mkwargs\u001b[0m\u001b[0;34m)\u001b[0m\u001b[0;34m\u001b[0m\u001b[0;34m\u001b[0m\u001b[0m\n\u001b[0m\u001b[1;32m     92\u001b[0m         \u001b[0mwrapper\u001b[0m\u001b[0;34m.\u001b[0m\u001b[0m_original_function\u001b[0m \u001b[0;34m=\u001b[0m \u001b[0mfunc\u001b[0m\u001b[0;34m\u001b[0m\u001b[0;34m\u001b[0m\u001b[0m\n\u001b[1;32m     93\u001b[0m         \u001b[0;32mreturn\u001b[0m \u001b[0mwrapper\u001b[0m\u001b[0;34m\u001b[0m\u001b[0;34m\u001b[0m\u001b[0m\n",
      "\u001b[0;32m/usr/local/lib/python3.6/dist-packages/keras/engine/training.py\u001b[0m in \u001b[0;36mpredict_generator\u001b[0;34m(self, generator, steps, callbacks, max_queue_size, workers, use_multiprocessing, verbose)\u001b[0m\n\u001b[1;32m   1844\u001b[0m             \u001b[0mworkers\u001b[0m\u001b[0;34m=\u001b[0m\u001b[0mworkers\u001b[0m\u001b[0;34m,\u001b[0m\u001b[0;34m\u001b[0m\u001b[0;34m\u001b[0m\u001b[0m\n\u001b[1;32m   1845\u001b[0m             \u001b[0muse_multiprocessing\u001b[0m\u001b[0;34m=\u001b[0m\u001b[0muse_multiprocessing\u001b[0m\u001b[0;34m,\u001b[0m\u001b[0;34m\u001b[0m\u001b[0;34m\u001b[0m\u001b[0m\n\u001b[0;32m-> 1846\u001b[0;31m             verbose=verbose)\n\u001b[0m\u001b[1;32m   1847\u001b[0m \u001b[0;34m\u001b[0m\u001b[0m\n\u001b[1;32m   1848\u001b[0m \u001b[0;34m\u001b[0m\u001b[0m\n",
      "\u001b[0;32m/usr/local/lib/python3.6/dist-packages/keras/engine/training_generator.py\u001b[0m in \u001b[0;36mpredict_generator\u001b[0;34m(model, generator, steps, callbacks, max_queue_size, workers, use_multiprocessing, verbose)\u001b[0m\n\u001b[1;32m    489\u001b[0m \u001b[0;34m\u001b[0m\u001b[0m\n\u001b[1;32m    490\u001b[0m         \u001b[0;32mwhile\u001b[0m \u001b[0msteps_done\u001b[0m \u001b[0;34m<\u001b[0m \u001b[0msteps\u001b[0m\u001b[0;34m:\u001b[0m\u001b[0;34m\u001b[0m\u001b[0;34m\u001b[0m\u001b[0m\n\u001b[0;32m--> 491\u001b[0;31m             \u001b[0mgenerator_output\u001b[0m \u001b[0;34m=\u001b[0m \u001b[0mnext\u001b[0m\u001b[0;34m(\u001b[0m\u001b[0moutput_generator\u001b[0m\u001b[0;34m)\u001b[0m\u001b[0;34m\u001b[0m\u001b[0;34m\u001b[0m\u001b[0m\n\u001b[0m\u001b[1;32m    492\u001b[0m             \u001b[0;32mif\u001b[0m \u001b[0misinstance\u001b[0m\u001b[0;34m(\u001b[0m\u001b[0mgenerator_output\u001b[0m\u001b[0;34m,\u001b[0m \u001b[0mtuple\u001b[0m\u001b[0;34m)\u001b[0m\u001b[0;34m:\u001b[0m\u001b[0;34m\u001b[0m\u001b[0;34m\u001b[0m\u001b[0m\n\u001b[1;32m    493\u001b[0m                 \u001b[0;31m# Compatibility with the generators\u001b[0m\u001b[0;34m\u001b[0m\u001b[0;34m\u001b[0m\u001b[0;34m\u001b[0m\u001b[0m\n",
      "\u001b[0;32m/usr/local/lib/python3.6/dist-packages/keras/utils/data_utils.py\u001b[0m in \u001b[0;36mget\u001b[0;34m(self)\u001b[0m\n\u001b[1;32m    740\u001b[0m                     \u001b[0;34m\"`use_multiprocessing=False, workers > 1`.\"\u001b[0m\u001b[0;34m\u001b[0m\u001b[0;34m\u001b[0m\u001b[0m\n\u001b[1;32m    741\u001b[0m                     \"For more information see issue #1638.\")\n\u001b[0;32m--> 742\u001b[0;31m             \u001b[0msix\u001b[0m\u001b[0;34m.\u001b[0m\u001b[0mreraise\u001b[0m\u001b[0;34m(\u001b[0m\u001b[0;34m*\u001b[0m\u001b[0msys\u001b[0m\u001b[0;34m.\u001b[0m\u001b[0mexc_info\u001b[0m\u001b[0;34m(\u001b[0m\u001b[0;34m)\u001b[0m\u001b[0;34m)\u001b[0m\u001b[0;34m\u001b[0m\u001b[0;34m\u001b[0m\u001b[0m\n\u001b[0m",
      "\u001b[0;32m/usr/local/lib/python3.6/dist-packages/six.py\u001b[0m in \u001b[0;36mreraise\u001b[0;34m(tp, value, tb)\u001b[0m\n\u001b[1;32m    691\u001b[0m             \u001b[0;32mif\u001b[0m \u001b[0mvalue\u001b[0m\u001b[0;34m.\u001b[0m\u001b[0m__traceback__\u001b[0m \u001b[0;32mis\u001b[0m \u001b[0;32mnot\u001b[0m \u001b[0mtb\u001b[0m\u001b[0;34m:\u001b[0m\u001b[0;34m\u001b[0m\u001b[0;34m\u001b[0m\u001b[0m\n\u001b[1;32m    692\u001b[0m                 \u001b[0;32mraise\u001b[0m \u001b[0mvalue\u001b[0m\u001b[0;34m.\u001b[0m\u001b[0mwith_traceback\u001b[0m\u001b[0;34m(\u001b[0m\u001b[0mtb\u001b[0m\u001b[0;34m)\u001b[0m\u001b[0;34m\u001b[0m\u001b[0;34m\u001b[0m\u001b[0m\n\u001b[0;32m--> 693\u001b[0;31m             \u001b[0;32mraise\u001b[0m \u001b[0mvalue\u001b[0m\u001b[0;34m\u001b[0m\u001b[0;34m\u001b[0m\u001b[0m\n\u001b[0m\u001b[1;32m    694\u001b[0m         \u001b[0;32mfinally\u001b[0m\u001b[0;34m:\u001b[0m\u001b[0;34m\u001b[0m\u001b[0;34m\u001b[0m\u001b[0m\n\u001b[1;32m    695\u001b[0m             \u001b[0mvalue\u001b[0m \u001b[0;34m=\u001b[0m \u001b[0;32mNone\u001b[0m\u001b[0;34m\u001b[0m\u001b[0;34m\u001b[0m\u001b[0m\n",
      "\u001b[0;32m/usr/local/lib/python3.6/dist-packages/keras/utils/data_utils.py\u001b[0m in \u001b[0;36mget\u001b[0;34m(self)\u001b[0m\n\u001b[1;32m    709\u001b[0m                 \u001b[0;32mtry\u001b[0m\u001b[0;34m:\u001b[0m\u001b[0;34m\u001b[0m\u001b[0;34m\u001b[0m\u001b[0m\n\u001b[1;32m    710\u001b[0m                     \u001b[0mfuture\u001b[0m \u001b[0;34m=\u001b[0m \u001b[0mself\u001b[0m\u001b[0;34m.\u001b[0m\u001b[0mqueue\u001b[0m\u001b[0;34m.\u001b[0m\u001b[0mget\u001b[0m\u001b[0;34m(\u001b[0m\u001b[0mblock\u001b[0m\u001b[0;34m=\u001b[0m\u001b[0;32mTrue\u001b[0m\u001b[0;34m)\u001b[0m\u001b[0;34m\u001b[0m\u001b[0;34m\u001b[0m\u001b[0m\n\u001b[0;32m--> 711\u001b[0;31m                     \u001b[0minputs\u001b[0m \u001b[0;34m=\u001b[0m \u001b[0mfuture\u001b[0m\u001b[0;34m.\u001b[0m\u001b[0mget\u001b[0m\u001b[0;34m(\u001b[0m\u001b[0mtimeout\u001b[0m\u001b[0;34m=\u001b[0m\u001b[0;36m30\u001b[0m\u001b[0;34m)\u001b[0m\u001b[0;34m\u001b[0m\u001b[0;34m\u001b[0m\u001b[0m\n\u001b[0m\u001b[1;32m    712\u001b[0m                     \u001b[0mself\u001b[0m\u001b[0;34m.\u001b[0m\u001b[0mqueue\u001b[0m\u001b[0;34m.\u001b[0m\u001b[0mtask_done\u001b[0m\u001b[0;34m(\u001b[0m\u001b[0;34m)\u001b[0m\u001b[0;34m\u001b[0m\u001b[0;34m\u001b[0m\u001b[0m\n\u001b[1;32m    713\u001b[0m                 \u001b[0;32mexcept\u001b[0m \u001b[0mmp\u001b[0m\u001b[0;34m.\u001b[0m\u001b[0mTimeoutError\u001b[0m\u001b[0;34m:\u001b[0m\u001b[0;34m\u001b[0m\u001b[0;34m\u001b[0m\u001b[0m\n",
      "\u001b[0;32m/usr/lib/python3.6/multiprocessing/pool.py\u001b[0m in \u001b[0;36mget\u001b[0;34m(self, timeout)\u001b[0m\n\u001b[1;32m    642\u001b[0m             \u001b[0;32mreturn\u001b[0m \u001b[0mself\u001b[0m\u001b[0;34m.\u001b[0m\u001b[0m_value\u001b[0m\u001b[0;34m\u001b[0m\u001b[0;34m\u001b[0m\u001b[0m\n\u001b[1;32m    643\u001b[0m         \u001b[0;32melse\u001b[0m\u001b[0;34m:\u001b[0m\u001b[0;34m\u001b[0m\u001b[0;34m\u001b[0m\u001b[0m\n\u001b[0;32m--> 644\u001b[0;31m             \u001b[0;32mraise\u001b[0m \u001b[0mself\u001b[0m\u001b[0;34m.\u001b[0m\u001b[0m_value\u001b[0m\u001b[0;34m\u001b[0m\u001b[0;34m\u001b[0m\u001b[0m\n\u001b[0m\u001b[1;32m    645\u001b[0m \u001b[0;34m\u001b[0m\u001b[0m\n\u001b[1;32m    646\u001b[0m     \u001b[0;32mdef\u001b[0m \u001b[0m_set\u001b[0m\u001b[0;34m(\u001b[0m\u001b[0mself\u001b[0m\u001b[0;34m,\u001b[0m \u001b[0mi\u001b[0m\u001b[0;34m,\u001b[0m \u001b[0mobj\u001b[0m\u001b[0;34m)\u001b[0m\u001b[0;34m:\u001b[0m\u001b[0;34m\u001b[0m\u001b[0;34m\u001b[0m\u001b[0m\n",
      "\u001b[0;32m/usr/lib/python3.6/multiprocessing/pool.py\u001b[0m in \u001b[0;36mworker\u001b[0;34m(inqueue, outqueue, initializer, initargs, maxtasks, wrap_exception)\u001b[0m\n\u001b[1;32m    117\u001b[0m         \u001b[0mjob\u001b[0m\u001b[0;34m,\u001b[0m \u001b[0mi\u001b[0m\u001b[0;34m,\u001b[0m \u001b[0mfunc\u001b[0m\u001b[0;34m,\u001b[0m \u001b[0margs\u001b[0m\u001b[0;34m,\u001b[0m \u001b[0mkwds\u001b[0m \u001b[0;34m=\u001b[0m \u001b[0mtask\u001b[0m\u001b[0;34m\u001b[0m\u001b[0;34m\u001b[0m\u001b[0m\n\u001b[1;32m    118\u001b[0m         \u001b[0;32mtry\u001b[0m\u001b[0;34m:\u001b[0m\u001b[0;34m\u001b[0m\u001b[0;34m\u001b[0m\u001b[0m\n\u001b[0;32m--> 119\u001b[0;31m             \u001b[0mresult\u001b[0m \u001b[0;34m=\u001b[0m \u001b[0;34m(\u001b[0m\u001b[0;32mTrue\u001b[0m\u001b[0;34m,\u001b[0m \u001b[0mfunc\u001b[0m\u001b[0;34m(\u001b[0m\u001b[0;34m*\u001b[0m\u001b[0margs\u001b[0m\u001b[0;34m,\u001b[0m \u001b[0;34m**\u001b[0m\u001b[0mkwds\u001b[0m\u001b[0;34m)\u001b[0m\u001b[0;34m)\u001b[0m\u001b[0;34m\u001b[0m\u001b[0;34m\u001b[0m\u001b[0m\n\u001b[0m\u001b[1;32m    120\u001b[0m         \u001b[0;32mexcept\u001b[0m \u001b[0mException\u001b[0m \u001b[0;32mas\u001b[0m \u001b[0me\u001b[0m\u001b[0;34m:\u001b[0m\u001b[0;34m\u001b[0m\u001b[0;34m\u001b[0m\u001b[0m\n\u001b[1;32m    121\u001b[0m             \u001b[0;32mif\u001b[0m \u001b[0mwrap_exception\u001b[0m \u001b[0;32mand\u001b[0m \u001b[0mfunc\u001b[0m \u001b[0;32mis\u001b[0m \u001b[0;32mnot\u001b[0m \u001b[0m_helper_reraises_exception\u001b[0m\u001b[0;34m:\u001b[0m\u001b[0;34m\u001b[0m\u001b[0;34m\u001b[0m\u001b[0m\n",
      "\u001b[0;32m/usr/local/lib/python3.6/dist-packages/keras/utils/data_utils.py\u001b[0m in \u001b[0;36mnext_sample\u001b[0;34m(uid)\u001b[0m\n\u001b[1;32m    648\u001b[0m         \u001b[0mThe\u001b[0m \u001b[0mnext\u001b[0m \u001b[0mvalue\u001b[0m \u001b[0mof\u001b[0m \u001b[0mgenerator\u001b[0m\u001b[0;31m \u001b[0m\u001b[0;31m`\u001b[0m\u001b[0muid\u001b[0m\u001b[0;31m`\u001b[0m\u001b[0;34m.\u001b[0m\u001b[0;34m\u001b[0m\u001b[0;34m\u001b[0m\u001b[0m\n\u001b[1;32m    649\u001b[0m     \"\"\"\n\u001b[0;32m--> 650\u001b[0;31m     \u001b[0;32mreturn\u001b[0m \u001b[0msix\u001b[0m\u001b[0;34m.\u001b[0m\u001b[0mnext\u001b[0m\u001b[0;34m(\u001b[0m\u001b[0m_SHARED_SEQUENCES\u001b[0m\u001b[0;34m[\u001b[0m\u001b[0muid\u001b[0m\u001b[0;34m]\u001b[0m\u001b[0;34m)\u001b[0m\u001b[0;34m\u001b[0m\u001b[0;34m\u001b[0m\u001b[0m\n\u001b[0m\u001b[1;32m    651\u001b[0m \u001b[0;34m\u001b[0m\u001b[0m\n\u001b[1;32m    652\u001b[0m \u001b[0;34m\u001b[0m\u001b[0m\n",
      "\u001b[0;31mTypeError\u001b[0m: 'numpy.ndarray' object is not an iterator"
     ]
    }
   ],
   "source": [
    "# test_features, test_labels\n",
    "show_eval(model, history, test_features, test_labels)"
   ]
  },
  {
   "cell_type": "markdown",
   "metadata": {
    "colab_type": "text",
    "id": "e3Eb77iqelwv"
   },
   "source": [
    "Using VGG-19 you're able to get test set performance up to almost 76%. Quite impressive!"
   ]
  },
  {
   "cell_type": "markdown",
   "metadata": {
    "colab_type": "text",
    "id": "BBuwD7bvelwx"
   },
   "source": [
    "## Adding further dense layers\n",
    "\n",
    "overview of the process:\n",
    "* Add the pretrained model as the first layer\n",
    "* Add some dense layers for a classifier on top\n",
    "* Freeze the convolutional base (all of the weights associated with base layer(s) will remain unchanged through the optimization process)\n",
    "* Train the model\n",
    "\n",
    "__Freezing the base is important as you wish to preserve the features encoded in this CNN base. Without this, the volatile gradients will quickly erase the useful features of the pretrained model.__"
   ]
  },
  {
   "cell_type": "code",
   "execution_count": 14,
   "metadata": {
    "colab": {},
    "colab_type": "code",
    "executionInfo": {
     "elapsed": 693,
     "status": "ok",
     "timestamp": 1593417498796,
     "user": {
      "displayName": "chamila dharmawardhana",
      "photoUrl": "https://lh3.googleusercontent.com/a-/AOh14GiMQL71je5gYAe__JMO5G3ZCfpatswl8ZaS0hraFw=s64",
      "userId": "10886394829232968298"
     },
     "user_tz": 300
    },
    "id": "jI6hJd95elwy"
   },
   "outputs": [],
   "source": [
    "model = models.Sequential()\n",
    "model.add(cnn_base)\n",
    "model.add(layers.Flatten())\n",
    "model.add(layers.Dense(132, activation='relu'))\n",
    "model.add(layers.Dense(1, activation='sigmoid'))"
   ]
  },
  {
   "cell_type": "markdown",
   "metadata": {
    "colab_type": "text",
    "id": "G4L9tNbvelw0"
   },
   "source": [
    "## Freezing\n",
    "\n",
    "Now that you've designed the model architecture, you'll freeze the base. With this, learning to check whether layers are frozen or not is a valuable skill."
   ]
  },
  {
   "cell_type": "code",
   "execution_count": null,
   "metadata": {
    "colab": {
     "base_uri": "https://localhost:8080/",
     "height": 101
    },
    "colab_type": "code",
    "executionInfo": {
     "elapsed": 222,
     "status": "ok",
     "timestamp": 1593410206629,
     "user": {
      "displayName": "chamila dharmawardhana",
      "photoUrl": "https://lh3.googleusercontent.com/a-/AOh14GiMQL71je5gYAe__JMO5G3ZCfpatswl8ZaS0hraFw=s64",
      "userId": "10886394829232968298"
     },
     "user_tz": 300
    },
    "id": "YMC_LX-qelw1",
    "outputId": "3bd60e87-399e-44a8-fce1-2c7168015672"
   },
   "outputs": [
    {
     "name": "stdout",
     "output_type": "stream",
     "text": [
      "vgg19 True\n",
      "flatten_1 True\n",
      "dense_5 True\n",
      "dense_6 True\n",
      "36\n"
     ]
    }
   ],
   "source": [
    "# You can check whether a layer is trainable (or alter its setting) through the layer.trainable attribute\n",
    "for layer in model.layers:\n",
    "    print(layer.name, layer.trainable)\n",
    "    \n",
    "# Similarly, you can check how many trainable weights are in the model\n",
    "print(len(model.trainable_weights))"
   ]
  },
  {
   "cell_type": "markdown",
   "metadata": {
    "colab_type": "text",
    "id": "nyhbXIAlelw3"
   },
   "source": [
    "Freezing a layer is very straightforward: set the `trainable` attribute to False."
   ]
  },
  {
   "cell_type": "code",
   "execution_count": null,
   "metadata": {
    "colab": {},
    "colab_type": "code",
    "id": "aHYsoaGmelw4"
   },
   "outputs": [],
   "source": [
    "cnn_base.trainable = False"
   ]
  },
  {
   "cell_type": "markdown",
   "metadata": {
    "colab_type": "text",
    "id": "o9AGKNL3elw6"
   },
   "source": [
    "A quick sanity check is also prudent and verifies that the base model is indeed frozen:"
   ]
  },
  {
   "cell_type": "code",
   "execution_count": null,
   "metadata": {
    "colab": {
     "base_uri": "https://localhost:8080/",
     "height": 101
    },
    "colab_type": "code",
    "executionInfo": {
     "elapsed": 226,
     "status": "ok",
     "timestamp": 1593410212440,
     "user": {
      "displayName": "chamila dharmawardhana",
      "photoUrl": "https://lh3.googleusercontent.com/a-/AOh14GiMQL71je5gYAe__JMO5G3ZCfpatswl8ZaS0hraFw=s64",
      "userId": "10886394829232968298"
     },
     "user_tz": 300
    },
    "id": "f3F-S0atelw6",
    "outputId": "e13ded75-3b2a-4cfd-919c-8553783ebae2"
   },
   "outputs": [
    {
     "name": "stdout",
     "output_type": "stream",
     "text": [
      "vgg19 False\n",
      "flatten_1 True\n",
      "dense_5 True\n",
      "dense_6 True\n",
      "4\n"
     ]
    }
   ],
   "source": [
    "# You can check whether a layer is trainable (or alter its setting) through the layer.trainable attribute\n",
    "for layer in model.layers:\n",
    "    print(layer.name, layer.trainable)\n",
    "    \n",
    "# Similarly, we can check how many trainable weights are in the model\n",
    "print(len(model.trainable_weights))"
   ]
  },
  {
   "cell_type": "markdown",
   "metadata": {
    "colab_type": "text",
    "id": "SCHS1r0gelw9"
   },
   "source": [
    "## data augmentation\n",
    "\n",
    "Define the training-validation-test sets (now with data augmentation)."
   ]
  },
  {
   "cell_type": "code",
   "execution_count": null,
   "metadata": {
    "colab": {
     "base_uri": "https://localhost:8080/",
     "height": 67
    },
    "colab_type": "code",
    "executionInfo": {
     "elapsed": 3278,
     "status": "ok",
     "timestamp": 1593410263758,
     "user": {
      "displayName": "chamila dharmawardhana",
      "photoUrl": "https://lh3.googleusercontent.com/a-/AOh14GiMQL71je5gYAe__JMO5G3ZCfpatswl8ZaS0hraFw=s64",
      "userId": "10886394829232968298"
     },
     "user_tz": 300
    },
    "id": "8KEUczHlelw9",
    "outputId": "038364f1-17a6-4d5a-badf-6d8d5b333673"
   },
   "outputs": [
    {
     "name": "stdout",
     "output_type": "stream",
     "text": [
      "Found 1738 images belonging to 2 classes.\n",
      "Found 4 images belonging to 2 classes.\n",
      "Found 208 images belonging to 2 classes.\n"
     ]
    }
   ],
   "source": [
    "# Get all the data in the directory split/train (542 images), and reshape them\n",
    "train_datagen = ImageDataGenerator(rescale=1./255, \n",
    "                                   rotation_range=40, \n",
    "                                   width_shift_range=0.2, \n",
    "                                   height_shift_range=0.2, \n",
    "                                   shear_range=0.2, \n",
    "                                   zoom_range=0.2, \n",
    "                                   horizontal_flip=True, \n",
    "                                   fill_mode='nearest')\n",
    "\n",
    "train_generator = train_datagen.flow_from_directory(train_folder,  \n",
    "                                                    target_size=(150, 150),  \n",
    "                                                    batch_size= 20, \n",
    "                                                    class_mode= 'binary') \n",
    "\n",
    "# Get all the data in the directory split/validation (200 images), and reshape them\n",
    "val_generator = ImageDataGenerator(rescale=1./255).flow_from_directory(val_folder,  \n",
    "                                                                       target_size=(150, 150),  \n",
    "                                                                       batch_size=20, \n",
    "                                                                       class_mode='binary')\n",
    "\n",
    "# Get all the data in the directory split/test (180 images), and reshape them\n",
    "test_generator = ImageDataGenerator(rescale=1./255).flow_from_directory(test_folder,  \n",
    "                                                                        target_size=(150, 150), \n",
    "                                                                        batch_size=208,\n",
    "                                                                        class_mode='binary')\n",
    "\n",
    "test_images, test_labels = next(test_generator)"
   ]
  },
  {
   "cell_type": "markdown",
   "metadata": {
    "colab_type": "text",
    "id": "fhYDW1UxelxA"
   },
   "source": [
    "__Now let's Compile And fit the model__"
   ]
  },
  {
   "cell_type": "code",
   "execution_count": null,
   "metadata": {
    "colab": {},
    "colab_type": "code",
    "id": "FHykXChNelxA"
   },
   "outputs": [],
   "source": [
    "model.compile(loss='binary_crossentropy',\n",
    "              optimizer=optimizers.RMSprop(lr=2e-5),\n",
    "              metrics=['acc'])"
   ]
  },
  {
   "cell_type": "code",
   "execution_count": null,
   "metadata": {
    "colab": {
     "base_uri": "https://localhost:8080/",
     "height": 353
    },
    "colab_type": "code",
    "executionInfo": {
     "elapsed": 132850,
     "status": "ok",
     "timestamp": 1593410401884,
     "user": {
      "displayName": "chamila dharmawardhana",
      "photoUrl": "https://lh3.googleusercontent.com/a-/AOh14GiMQL71je5gYAe__JMO5G3ZCfpatswl8ZaS0hraFw=s64",
      "userId": "10886394829232968298"
     },
     "user_tz": 300
    },
    "id": "YTx5JTpFelxC",
    "outputId": "8a4d5451-99d6-4f57-a27b-56a90af88547"
   },
   "outputs": [
    {
     "name": "stdout",
     "output_type": "stream",
     "text": [
      "Epoch 1/10\n",
      "27/27 [==============================] - 14s 527ms/step - loss: 0.5543 - acc: 0.7222 - val_loss: 0.8220 - val_acc: 0.5000\n",
      "Epoch 2/10\n",
      "27/27 [==============================] - 12s 451ms/step - loss: 0.4446 - acc: 0.7722 - val_loss: 0.6158 - val_acc: 0.7500\n",
      "Epoch 3/10\n",
      "27/27 [==============================] - 14s 518ms/step - loss: 0.4163 - acc: 0.7844 - val_loss: 0.5316 - val_acc: 0.7500\n",
      "Epoch 4/10\n",
      "27/27 [==============================] - 14s 515ms/step - loss: 0.3836 - acc: 0.8167 - val_loss: 0.5646 - val_acc: 0.7500\n",
      "Epoch 5/10\n",
      "27/27 [==============================] - 13s 496ms/step - loss: 0.3371 - acc: 0.8481 - val_loss: 0.5416 - val_acc: 0.7500\n",
      "Epoch 6/10\n",
      "27/27 [==============================] - 13s 482ms/step - loss: 0.3409 - acc: 0.8519 - val_loss: 0.4821 - val_acc: 0.7500\n",
      "Epoch 7/10\n",
      "27/27 [==============================] - 13s 469ms/step - loss: 0.3093 - acc: 0.8601 - val_loss: 0.4632 - val_acc: 0.7500\n",
      "Epoch 8/10\n",
      "27/27 [==============================] - 13s 497ms/step - loss: 0.3270 - acc: 0.8574 - val_loss: 0.4841 - val_acc: 0.7500\n",
      "Epoch 9/10\n",
      "27/27 [==============================] - 12s 455ms/step - loss: 0.2883 - acc: 0.8630 - val_loss: 0.4338 - val_acc: 0.7500\n",
      "Epoch 10/10\n",
      "27/27 [==============================] - 13s 480ms/step - loss: 0.3046 - acc: 0.8741 - val_loss: 0.4231 - val_acc: 0.7500\n"
     ]
    }
   ],
   "source": [
    "# Some parameters are takes from previous optimiztion \n",
    "history = model.fit_generator(train_generator,\n",
    "                              steps_per_epoch=27,\n",
    "                              epochs=10,\n",
    "                              validation_data=val_generator,\n",
    "                              validation_steps=10)"
   ]
  },
  {
   "cell_type": "code",
   "execution_count": null,
   "metadata": {
    "colab": {
     "base_uri": "https://localhost:8080/",
     "height": 545
    },
    "colab_type": "code",
    "executionInfo": {
     "elapsed": 127982,
     "status": "ok",
     "timestamp": 1593410402705,
     "user": {
      "displayName": "chamila dharmawardhana",
      "photoUrl": "https://lh3.googleusercontent.com/a-/AOh14GiMQL71je5gYAe__JMO5G3ZCfpatswl8ZaS0hraFw=s64",
      "userId": "10886394829232968298"
     },
     "user_tz": 300
    },
    "id": "DLSUN_D8elxE",
    "outputId": "bd07d72f-9cf9-47ea-b9d5-d0748cfcaf92"
   },
   "outputs": [
    {
     "data": {
      "image/png": "[encoded data removed]",
      "text/plain": [
       "<Figure size 432x288 with 1 Axes>"
      ]
     },
     "metadata": {
      "needs_background": "light",
      "tags": []
     },
     "output_type": "display_data"
    },
    {
     "data": {
      "image/png": "[encoded data removed]",
      "text/plain": [
       "<Figure size 432x288 with 1 Axes>"
      ]
     },
     "metadata": {
      "needs_background": "light",
      "tags": []
     },
     "output_type": "display_data"
    }
   ],
   "source": [
    "train_acc = history.history['acc']\n",
    "val_acc = history.history['val_acc']\n",
    "train_loss = history.history['loss']\n",
    "val_loss = history.history['val_loss']\n",
    "epch = range(1, len(train_acc) + 1)\n",
    "plt.plot(epch, train_acc, 'g.', label='Training Accuracy')\n",
    "plt.plot(epch, val_acc, 'g', label='Validation acc')\n",
    "plt.title('Accuracy')\n",
    "plt.legend()\n",
    "plt.figure()\n",
    "plt.plot(epch, train_loss, 'r.', label='Training loss')\n",
    "plt.plot(epch, val_loss, 'r', label='Validation loss')\n",
    "plt.title('Loss')\n",
    "plt.legend()\n",
    "plt.show()"
   ]
  },
  {
   "cell_type": "markdown",
   "metadata": {
    "colab_type": "text",
    "id": "kya3GKmyelxI"
   },
   "source": [
    "## Fine Tuning the model\n",
    "\n",
    "Now let's further fine tune the weights of the most abstract layers of the convolutional base. \n",
    "\n",
    "- first freeze the entire convolutional base\n",
    "- tune the fully connected classifier that sits on top of the pretrained convolutional base. \n",
    "\n",
    "Thus we can expect a relatively strong accuracy and you can fine tune the weights of the last few layers of the convolutional base. \n",
    "\n",
    "Unfreezing initial layers of the convolutional base will typically not produce substantial gains as these early layers learn simple representations such as colors and edges which are useful in all forms of image recognition, regardless of application.   \n",
    "\n",
    "Recall the model's architecture: "
   ]
  },
  {
   "cell_type": "code",
   "execution_count": null,
   "metadata": {
    "colab": {
     "base_uri": "https://localhost:8080/",
     "height": 286
    },
    "colab_type": "code",
    "executionInfo": {
     "elapsed": 120062,
     "status": "ok",
     "timestamp": 1593410402710,
     "user": {
      "displayName": "chamila dharmawardhana",
      "photoUrl": "https://lh3.googleusercontent.com/a-/AOh14GiMQL71je5gYAe__JMO5G3ZCfpatswl8ZaS0hraFw=s64",
      "userId": "10886394829232968298"
     },
     "user_tz": 300
    },
    "id": "ZRuWYHUbelxJ",
    "outputId": "dd29d7f6-9da6-45b0-edc4-4aa9aa4a2cb0"
   },
   "outputs": [
    {
     "name": "stdout",
     "output_type": "stream",
     "text": [
      "Model: \"sequential_3\"\n",
      "_________________________________________________________________\n",
      "Layer (type)                 Output Shape              Param #   \n",
      "=================================================================\n",
      "vgg19 (Model)                (None, 4, 4, 512)         20024384  \n",
      "_________________________________________________________________\n",
      "flatten_1 (Flatten)          (None, 8192)              0         \n",
      "_________________________________________________________________\n",
      "dense_5 (Dense)              (None, 132)               1081476   \n",
      "_________________________________________________________________\n",
      "dense_6 (Dense)              (None, 1)                 133       \n",
      "=================================================================\n",
      "Total params: 21,105,993\n",
      "Trainable params: 1,081,609\n",
      "Non-trainable params: 20,024,384\n",
      "_________________________________________________________________\n"
     ]
    }
   ],
   "source": [
    "model.summary()"
   ]
  },
  {
   "cell_type": "markdown",
   "metadata": {
    "colab_type": "text",
    "id": "cWTUOIYVelxM"
   },
   "source": [
    "And you can also further investigate the borrowed convolutional base:"
   ]
  },
  {
   "cell_type": "code",
   "execution_count": null,
   "metadata": {
    "colab": {
     "base_uri": "https://localhost:8080/",
     "height": 890
    },
    "colab_type": "code",
    "executionInfo": {
     "elapsed": 118668,
     "status": "ok",
     "timestamp": 1593410402792,
     "user": {
      "displayName": "chamila dharmawardhana",
      "photoUrl": "https://lh3.googleusercontent.com/a-/AOh14GiMQL71je5gYAe__JMO5G3ZCfpatswl8ZaS0hraFw=s64",
      "userId": "10886394829232968298"
     },
     "user_tz": 300
    },
    "id": "1_l-QjllelxN",
    "outputId": "b711388c-d97b-47a6-def3-962b5534055e"
   },
   "outputs": [
    {
     "name": "stdout",
     "output_type": "stream",
     "text": [
      "Model: \"vgg19\"\n",
      "_________________________________________________________________\n",
      "Layer (type)                 Output Shape              Param #   \n",
      "=================================================================\n",
      "input_4 (InputLayer)         (None, 150, 150, 3)       0         \n",
      "_________________________________________________________________\n",
      "block1_conv1 (Conv2D)        (None, 150, 150, 64)      1792      \n",
      "_________________________________________________________________\n",
      "block1_conv2 (Conv2D)        (None, 150, 150, 64)      36928     \n",
      "_________________________________________________________________\n",
      "block1_pool (MaxPooling2D)   (None, 75, 75, 64)        0         \n",
      "_________________________________________________________________\n",
      "block2_conv1 (Conv2D)        (None, 75, 75, 128)       73856     \n",
      "_________________________________________________________________\n",
      "block2_conv2 (Conv2D)        (None, 75, 75, 128)       147584    \n",
      "_________________________________________________________________\n",
      "block2_pool (MaxPooling2D)   (None, 37, 37, 128)       0         \n",
      "_________________________________________________________________\n",
      "block3_conv1 (Conv2D)        (None, 37, 37, 256)       295168    \n",
      "_________________________________________________________________\n",
      "block3_conv2 (Conv2D)        (None, 37, 37, 256)       590080    \n",
      "_________________________________________________________________\n",
      "block3_conv3 (Conv2D)        (None, 37, 37, 256)       590080    \n",
      "_________________________________________________________________\n",
      "block3_conv4 (Conv2D)        (None, 37, 37, 256)       590080    \n",
      "_________________________________________________________________\n",
      "block3_pool (MaxPooling2D)   (None, 18, 18, 256)       0         \n",
      "_________________________________________________________________\n",
      "block4_conv1 (Conv2D)        (None, 18, 18, 512)       1180160   \n",
      "_________________________________________________________________\n",
      "block4_conv2 (Conv2D)        (None, 18, 18, 512)       2359808   \n",
      "_________________________________________________________________\n",
      "block4_conv3 (Conv2D)        (None, 18, 18, 512)       2359808   \n",
      "_________________________________________________________________\n",
      "block4_conv4 (Conv2D)        (None, 18, 18, 512)       2359808   \n",
      "_________________________________________________________________\n",
      "block4_pool (MaxPooling2D)   (None, 9, 9, 512)         0         \n",
      "_________________________________________________________________\n",
      "block5_conv1 (Conv2D)        (None, 9, 9, 512)         2359808   \n",
      "_________________________________________________________________\n",
      "block5_conv2 (Conv2D)        (None, 9, 9, 512)         2359808   \n",
      "_________________________________________________________________\n",
      "block5_conv3 (Conv2D)        (None, 9, 9, 512)         2359808   \n",
      "_________________________________________________________________\n",
      "block5_conv4 (Conv2D)        (None, 9, 9, 512)         2359808   \n",
      "_________________________________________________________________\n",
      "block5_pool (MaxPooling2D)   (None, 4, 4, 512)         0         \n",
      "=================================================================\n",
      "Total params: 20,024,384\n",
      "Trainable params: 0\n",
      "Non-trainable params: 20,024,384\n",
      "_________________________________________________________________\n"
     ]
    }
   ],
   "source": [
    "cnn_base.summary()"
   ]
  },
  {
   "cell_type": "markdown",
   "metadata": {
    "colab_type": "text",
    "id": "kL-hz6KKelxP"
   },
   "source": [
    "## further Fine Tuning:\n",
    "\n",
    "- unfreeze a few of the deeper layers from this base and further fine tune them to our problem scenario. \n",
    "- This part is be particularly helpful where adapted models span new domain categories such as the Xray dataset that was never seen in the VGG19 model. \n",
    "- when the problem domain is substantially different, additional gains are more likely in adjusting these more abstract layers of the convolutional base. \n"
   ]
  },
  {
   "cell_type": "code",
   "execution_count": null,
   "metadata": {
    "colab": {},
    "colab_type": "code",
    "id": "o7glpbxBelxP"
   },
   "outputs": [],
   "source": [
    "cnn_base.trainable = True"
   ]
  },
  {
   "cell_type": "markdown",
   "metadata": {
    "colab_type": "text",
    "id": "OecWJt8zelxS"
   },
   "source": [
    "Let's refreeze all layers up to a __block5_conv1__ layer. Here we are  unfreezing the final *block* of layers.  "
   ]
  },
  {
   "cell_type": "code",
   "execution_count": null,
   "metadata": {
    "colab": {},
    "colab_type": "code",
    "id": "VFRztDVDelxS"
   },
   "outputs": [],
   "source": [
    "cnn_base.trainable = True\n",
    "set_trainable = False\n",
    "for layer in cnn_base.layers:\n",
    "    if layer.name == 'block5_conv1':\n",
    "        set_trainable = True\n",
    "    if set_trainable:\n",
    "        layer.trainable = True\n",
    "    else:\n",
    "        layer.trainable = False"
   ]
  },
  {
   "cell_type": "markdown",
   "metadata": {
    "colab_type": "text",
    "id": "C3QKW8rfelxV"
   },
   "source": [
    "Finally, we must recompile our model before fitting."
   ]
  },
  {
   "cell_type": "code",
   "execution_count": null,
   "metadata": {
    "colab": {},
    "colab_type": "code",
    "id": "AjhNCxPoelxV"
   },
   "outputs": [],
   "source": [
    "model.compile(loss='binary_crossentropy', \n",
    "              optimizer=optimizers.RMSprop(lr=1e-4), \n",
    "              metrics=['accuracy'])"
   ]
  },
  {
   "cell_type": "markdown",
   "metadata": {
    "colab_type": "text",
    "id": "GGZHQ-wCelxX"
   },
   "source": [
    "Afterwards, we can then fit the model as usual."
   ]
  },
  {
   "cell_type": "code",
   "execution_count": null,
   "metadata": {
    "colab": {
     "base_uri": "https://localhost:8080/",
     "height": 353
    },
    "colab_type": "code",
    "executionInfo": {
     "elapsed": 131266,
     "status": "ok",
     "timestamp": 1593410534303,
     "user": {
      "displayName": "chamila dharmawardhana",
      "photoUrl": "https://lh3.googleusercontent.com/a-/AOh14GiMQL71je5gYAe__JMO5G3ZCfpatswl8ZaS0hraFw=s64",
      "userId": "10886394829232968298"
     },
     "user_tz": 300
    },
    "id": "uWhzQXnhelxX",
    "outputId": "9b03f4f0-2af4-45dd-84af-74fadd4734c7"
   },
   "outputs": [
    {
     "name": "stdout",
     "output_type": "stream",
     "text": [
      "Epoch 1/10\n",
      "27/27 [==============================] - 15s 540ms/step - loss: 0.5130 - accuracy: 0.7974 - val_loss: 0.5561 - val_accuracy: 0.7500\n",
      "Epoch 2/10\n",
      "27/27 [==============================] - 13s 473ms/step - loss: 0.3432 - accuracy: 0.8519 - val_loss: 0.7339 - val_accuracy: 0.7500\n",
      "Epoch 3/10\n",
      "27/27 [==============================] - 13s 496ms/step - loss: 0.2615 - accuracy: 0.8889 - val_loss: 0.9379 - val_accuracy: 0.7500\n",
      "Epoch 4/10\n",
      "27/27 [==============================] - 13s 473ms/step - loss: 0.2521 - accuracy: 0.9089 - val_loss: 1.6614 - val_accuracy: 0.7500\n",
      "Epoch 5/10\n",
      "27/27 [==============================] - 13s 482ms/step - loss: 0.2589 - accuracy: 0.9111 - val_loss: 1.0494 - val_accuracy: 0.7500\n",
      "Epoch 6/10\n",
      "27/27 [==============================] - 13s 469ms/step - loss: 0.2233 - accuracy: 0.9185 - val_loss: 0.7761 - val_accuracy: 0.5000\n",
      "Epoch 7/10\n",
      "27/27 [==============================] - 12s 458ms/step - loss: 0.1632 - accuracy: 0.9349 - val_loss: 1.8717 - val_accuracy: 0.7500\n",
      "Epoch 8/10\n",
      "27/27 [==============================] - 13s 485ms/step - loss: 0.2012 - accuracy: 0.9241 - val_loss: 1.0118 - val_accuracy: 0.7500\n",
      "Epoch 9/10\n",
      "27/27 [==============================] - 13s 473ms/step - loss: 0.2291 - accuracy: 0.9000 - val_loss: 1.8211 - val_accuracy: 0.7500\n",
      "Epoch 10/10\n",
      "27/27 [==============================] - 13s 465ms/step - loss: 0.2210 - accuracy: 0.9167 - val_loss: 0.5909 - val_accuracy: 0.7500\n"
     ]
    }
   ],
   "source": [
    "# several parameter sets were tested at this point. \n",
    "history = model.fit_generator(train_generator,\n",
    "                              steps_per_epoch=27,\n",
    "                              epochs=10,\n",
    "                              validation_data=val_generator,\n",
    "                              validation_steps=10)"
   ]
  },
  {
   "cell_type": "code",
   "execution_count": null,
   "metadata": {
    "colab": {
     "base_uri": "https://localhost:8080/",
     "height": 34
    },
    "colab_type": "code",
    "executionInfo": {
     "elapsed": 131262,
     "status": "ok",
     "timestamp": 1593410534304,
     "user": {
      "displayName": "chamila dharmawardhana",
      "photoUrl": "https://lh3.googleusercontent.com/a-/AOh14GiMQL71je5gYAe__JMO5G3ZCfpatswl8ZaS0hraFw=s64",
      "userId": "10886394829232968298"
     },
     "user_tz": 300
    },
    "id": "DJwz6qwjelxa",
    "outputId": "cafbe6ec-94fa-44d9-9442-8a3d162f4fed"
   },
   "outputs": [
    {
     "data": {
      "text/plain": [
       "dict_keys(['val_loss', 'val_accuracy', 'loss', 'accuracy'])"
      ]
     },
     "execution_count": 50,
     "metadata": {
      "tags": []
     },
     "output_type": "execute_result"
    }
   ],
   "source": [
    "history.history.keys()"
   ]
  },
  {
   "cell_type": "code",
   "execution_count": null,
   "metadata": {
    "colab": {
     "base_uri": "https://localhost:8080/",
     "height": 545
    },
    "colab_type": "code",
    "executionInfo": {
     "elapsed": 726,
     "status": "ok",
     "timestamp": 1593410898283,
     "user": {
      "displayName": "chamila dharmawardhana",
      "photoUrl": "https://lh3.googleusercontent.com/a-/AOh14GiMQL71je5gYAe__JMO5G3ZCfpatswl8ZaS0hraFw=s64",
      "userId": "10886394829232968298"
     },
     "user_tz": 300
    },
    "id": "nH5L_TbJelxc",
    "outputId": "de8d15b8-36e4-4df6-9f10-e106201d2cc2"
   },
   "outputs": [
    {
     "data": {
      "image/png": "[encoded data removed]",
      "text/plain": [
       "<Figure size 432x288 with 1 Axes>"
      ]
     },
     "metadata": {
      "needs_background": "light",
      "tags": []
     },
     "output_type": "display_data"
    },
    {
     "data": {
      "image/png": "[encoded data removed]",
      "text/plain": [
       "<Figure size 432x288 with 1 Axes>"
      ]
     },
     "metadata": {
      "needs_background": "light",
      "tags": []
     },
     "output_type": "display_data"
    }
   ],
   "source": [
    "train_acc = history.history['accuracy']\n",
    "val_acc = history.history['val_accuracy']\n",
    "train_loss = history.history['loss']\n",
    "val_loss = history.history['val_loss']\n",
    "epch = range(1, len(train_acc) + 1)\n",
    "plt.plot(epch, train_acc, 'g.', label='Training Accuracy')\n",
    "plt.plot(epch, val_acc, 'g', label='Validation acc')\n",
    "plt.title('Accuracy')\n",
    "plt.legend()\n",
    "plt.figure()\n",
    "plt.plot(epch, train_loss, 'r.', label='Training loss')\n",
    "plt.plot(epch, val_loss, 'r', label='Validation loss')\n",
    "plt.title('Loss')\n",
    "plt.legend()\n",
    "plt.show()"
   ]
  },
  {
   "cell_type": "markdown",
   "metadata": {
    "colab_type": "text",
    "id": "PaUGBpgzelxd"
   },
   "source": [
    "## Final Evaluation\n",
    "\n",
    "As usual, conclude with a final evaluation on the test set."
   ]
  },
  {
   "cell_type": "code",
   "execution_count": null,
   "metadata": {
    "colab": {
     "base_uri": "https://localhost:8080/",
     "height": 34
    },
    "colab_type": "code",
    "executionInfo": {
     "elapsed": 160664,
     "status": "ok",
     "timestamp": 1593411065537,
     "user": {
      "displayName": "chamila dharmawardhana",
      "photoUrl": "https://lh3.googleusercontent.com/a-/AOh14GiMQL71je5gYAe__JMO5G3ZCfpatswl8ZaS0hraFw=s64",
      "userId": "10886394829232968298"
     },
     "user_tz": 300
    },
    "id": "BkB07HF5elxe",
    "outputId": "180015e9-dc73-4e47-aeb9-b3304e85add7"
   },
   "outputs": [
    {
     "name": "stdout",
     "output_type": "stream",
     "text": [
      "test acc: 0.9182692170143127\n"
     ]
    }
   ],
   "source": [
    "\n",
    "\n",
    "# test_generator = test_datagen.flow_from_directory(test_dir,\n",
    "#                                                   target_size=(150, 150),\n",
    "#                                                   batch_size=20,\n",
    "#                                                   class_mode='binary')\n",
    "\n",
    "test_loss, test_acc = model.evaluate_generator(test_generator, steps=50)\n",
    "print('test acc:', test_acc)"
   ]
  },
  {
   "cell_type": "markdown",
   "metadata": {
    "colab_type": "text",
    "id": "Q18RL66Xelxg"
   },
   "source": [
    "## Summary\n",
    "\n",
    "Starting from th e VGG19 base model our study got the results ...."
   ]
  },
  {
   "cell_type": "code",
   "execution_count": null,
   "metadata": {
    "colab": {},
    "colab_type": "code",
    "id": "aVtP1LJxFH3Z"
   },
   "outputs": [],
   "source": []
  }
 ],
 "metadata": {
  "accelerator": "GPU",
  "colab": {
   "collapsed_sections": [],
   "name": "transferLearning.ipynb",
   "provenance": []
  },
  "kernelspec": {
   "display_name": "Python 3",
   "language": "python",
   "name": "python3"
  },
  "language_info": {
   "codemirror_mode": {
    "name": "ipython",
    "version": 3
   },
   "file_extension": ".py",
   "mimetype": "text/x-python",
   "name": "python",
   "nbconvert_exporter": "python",
   "pygments_lexer": "ipython3",
   "version": "3.6.9"
  },
  "toc": {
   "base_numbering": 1,
   "nav_menu": {},
   "number_sections": true,
   "sideBar": true,
   "skip_h1_title": false,
   "title_cell": "Table of Contents",
   "title_sidebar": "Contents",
   "toc_cell": false,
   "toc_position": {},
   "toc_section_display": true,
   "toc_window_display": false
  }
 },
 "nbformat": 4,
 "nbformat_minor": 1
}
