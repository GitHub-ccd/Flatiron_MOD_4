{
 "cells": [
  {
   "cell_type": "markdown",
   "metadata": {},
   "source": [
    "# CNN - Convolutional Neural Networks lessons and labs\n",
    "\n",
    "[cnn-intro](./dsc-cnn-intro-onl01-dtsc-ft-030220/index.ipynb)<br>\n",
    "\n",
    "\n",
    "[convolutional-neural-networks](./dsc-convolutional-neural-networks-onl01-dtsc-ft-030220/index.ipynb)<br>\n",
    "- Define what a convolution is, as it relates to CNNs \n",
    "- Explain how convolutions work using RGB images \n",
    "- Describe what a pooling layer is in a neural network \n",
    "- Explain how padding works with convolution layers of a neural network \n",
    "\n",
    "\n",
    "[convolutional-neural-networks-codealong](./dsc-convolutional-neural-networks-codealong-onl01-dtsc-ft-030220/index.ipynb)<br>\n",
    "- Load images from a hierarchical file structure using an image datagenerator \n",
    "- Explain why one might augment image data when training a neural network \n",
    "- Apply data augmentation to image files before training a neural network \n",
    "- Build a CNN using Keras \n",
    "\n",
    "[building-a-cnn-from-scratch](./dsc-building-a-cnn-from-scratch-onl01-dtsc-ft-030220/index.ipynb)<br>\n",
    "\n",
    "\n",
    "[visualizing-intermediate-activations](./dsc-visualizing-intermediate-activations-onl01-dtsc-ft-030220/index.ipynb)<br>\n",
    "\n",
    "\n",
    "[visualizing-activation-functions-lab](./dsc-visualizing-activation-functions-lab-onl01-dtsc-ft-030220/index.ipynb)<br>\n",
    "\n",
    "\n",
    "[cnn-recap](./dsc-cnn-recap-onl01-dtsc-ft-030220/index.ipynb)<br>\n"
   ]
  },
  {
   "cell_type": "code",
   "execution_count": null,
   "metadata": {},
   "outputs": [],
   "source": []
  }
 ],
 "metadata": {
  "kernelspec": {
   "display_name": "Python 3",
   "language": "python",
   "name": "python3"
  },
  "language_info": {
   "codemirror_mode": {
    "name": "ipython",
    "version": 3
   },
   "file_extension": ".py",
   "mimetype": "text/x-python",
   "name": "python",
   "nbconvert_exporter": "python",
   "pygments_lexer": "ipython3",
   "version": "3.6.9"
  },
  "toc": {
   "base_numbering": 1,
   "nav_menu": {},
   "number_sections": true,
   "sideBar": true,
   "skip_h1_title": true,
   "title_cell": "Table of Contents",
   "title_sidebar": "Contents",
   "toc_cell": false,
   "toc_position": {},
   "toc_section_display": true,
   "toc_window_display": false
  }
 },
 "nbformat": 4,
 "nbformat_minor": 2
}
