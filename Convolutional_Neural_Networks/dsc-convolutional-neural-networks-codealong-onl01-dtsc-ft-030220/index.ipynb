{
 "cells": [
  {
   "cell_type": "markdown",
   "metadata": {
    "colab_type": "text",
    "id": "Sm4Y-syAAoDW"
   },
   "source": [
    "# Convolutional Neural Networks - Codealong\n",
    "\n",
    "## Introduction\n",
    "\n",
    "In this codealong, we will reinvestigate our previous Santa image classification example. To do this, we will review loading a dataset from a nested directory structure and building a baseline model. From there, we'll build a CNN and demonstrate its improved performance on image recognition tasks. It is recommended you run the cells in order to further explore variables and investigate the code snippets themselves. However, please note that some cells (particularly training cells later on) may take several minutes to run. (On a Macbook pro the entire notebook took ~15 minutes to run.)\n",
    "\n",
    "## Objectives  \n",
    "\n",
    "You will be able to:\n",
    "\n",
    "- Load images from a hierarchical file structure using an image datagenerator \n",
    "- Explain why one might augment image data when training a neural network \n",
    "- Apply data augmentation to image files before training a neural network \n",
    "- Build a CNN using Keras "
   ]
  },
  {
   "cell_type": "markdown",
   "metadata": {
    "colab_type": "text",
    "id": "2cjwnQ-WAoDX"
   },
   "source": [
    "## Properly store your images \n",
    "\n",
    "When you're analyzing your image data, file management is important. We will be using the santa images again, but this time, they are stored in two folders: `santa` and `not_santa`. We want to work with a `train`, `validation`, and `test` datasets now, as we know by now that this is the best way to obtain unbiased estimate of your model performance.  \n",
    "\n",
    "Let's import libraries `os` and `shutil`, as we'll need them to create the new folders and move the new files in there."
   ]
  },
  {
   "cell_type": "code",
   "execution_count": 1,
   "metadata": {
    "colab": {},
    "colab_type": "code",
    "executionInfo": {
     "elapsed": 394,
     "status": "ok",
     "timestamp": 1592879394372,
     "user": {
      "displayName": "chamila dharmawardhana",
      "photoUrl": "https://lh3.googleusercontent.com/a-/AOh14GiMQL71je5gYAe__JMO5G3ZCfpatswl8ZaS0hraFw=s64",
      "userId": "10886394829232968298"
     },
     "user_tz": 300
    },
    "id": "fQks_jngAoDY"
   },
   "outputs": [],
   "source": [
    "import os, shutil"
   ]
  },
  {
   "cell_type": "markdown",
   "metadata": {
    "colab_type": "text",
    "id": "bQku5cF-AoDb"
   },
   "source": [
    "Below we create three objects representing the existing directories: `data/santa/` as `data_santa_dir` and `data/not_santa/` as `data_not_santa_dir`. We will create a new directory `split/` as `new_dir`, where we will split the dataset in three groups (or three subdirectories): `train`, `test`, and `validation`, each containing `santa` and `not_santa` subfolders. The final desired structure is represented below: \n",
    "\n",
    "![title](images/folder_structure.png)"
   ]
  },
  {
   "cell_type": "code",
   "execution_count": 2,
   "metadata": {
    "colab": {},
    "colab_type": "code",
    "executionInfo": {
     "elapsed": 196,
     "status": "ok",
     "timestamp": 1592879493462,
     "user": {
      "displayName": "chamila dharmawardhana",
      "photoUrl": "https://lh3.googleusercontent.com/a-/AOh14GiMQL71je5gYAe__JMO5G3ZCfpatswl8ZaS0hraFw=s64",
      "userId": "10886394829232968298"
     },
     "user_tz": 300
    },
    "id": "xgcGvNhfAoDc"
   },
   "outputs": [],
   "source": [
    "data_santa_dir = 'data/santa/'\n",
    "data_not_santa_dir = 'data/not_santa/'\n",
    "new_dir = 'split/'"
   ]
  },
  {
   "cell_type": "code",
   "execution_count": 3,
   "metadata": {
    "colab": {
     "base_uri": "https://localhost:8080/",
     "height": 34
    },
    "colab_type": "code",
    "executionInfo": {
     "elapsed": 197,
     "status": "ok",
     "timestamp": 1592879545853,
     "user": {
      "displayName": "chamila dharmawardhana",
      "photoUrl": "https://lh3.googleusercontent.com/a-/AOh14GiMQL71je5gYAe__JMO5G3ZCfpatswl8ZaS0hraFw=s64",
      "userId": "10886394829232968298"
     },
     "user_tz": 300
    },
    "id": "OLfBtGXfBL7j",
    "outputId": "958d277f-9727-4cb6-8e53-fa37440abada"
   },
   "outputs": [
    {
     "name": "stdout",
     "output_type": "stream",
     "text": [
      "['.gitignore', '.ipynb_checkpoints', '.learn', 'CONTRIBUTING.md', 'data', 'images', 'index.ipynb', 'index_files', 'LICENSE.md', 'New folder', 'README.md']\n"
     ]
    }
   ],
   "source": [
    "print(os.listdir())"
   ]
  },
  {
   "cell_type": "markdown",
   "metadata": {
    "colab_type": "text",
    "id": "dYEjuwPNAoDe"
   },
   "source": [
    "You can use `os.listdir()` to create an object that stores all the relevant image names. "
   ]
  },
  {
   "cell_type": "code",
   "execution_count": 4,
   "metadata": {
    "colab": {
     "base_uri": "https://localhost:8080/",
     "height": 162
    },
    "colab_type": "code",
    "executionInfo": {
     "elapsed": 217,
     "status": "error",
     "timestamp": 1592879501297,
     "user": {
      "displayName": "chamila dharmawardhana",
      "photoUrl": "https://lh3.googleusercontent.com/a-/AOh14GiMQL71je5gYAe__JMO5G3ZCfpatswl8ZaS0hraFw=s64",
      "userId": "10886394829232968298"
     },
     "user_tz": 300
    },
    "id": "PJm9mRLXAoDf",
    "outputId": "2cda41d8-cc45-4359-908b-ad502b0e65bf"
   },
   "outputs": [],
   "source": [
    "imgs_santa = [file for file in os.listdir(data_santa_dir) if file.endswith('.jpg')]"
   ]
  },
  {
   "cell_type": "code",
   "execution_count": 5,
   "metadata": {
    "colab": {},
    "colab_type": "code",
    "id": "z7eYl2vaAoDi",
    "outputId": "162889e2-72a7-41a7-951c-88c3300c137a"
   },
   "outputs": [
    {
     "data": {
      "text/plain": [
       "['00000000.jpg',\n",
       " '00000001.jpg',\n",
       " '00000003.jpg',\n",
       " '00000004.jpg',\n",
       " '00000005.jpg',\n",
       " '00000006.jpg',\n",
       " '00000007.jpg',\n",
       " '00000008.jpg',\n",
       " '00000009.jpg',\n",
       " '00000010.jpg']"
      ]
     },
     "execution_count": 5,
     "metadata": {},
     "output_type": "execute_result"
    }
   ],
   "source": [
    "imgs_santa[0:10]"
   ]
  },
  {
   "cell_type": "markdown",
   "metadata": {
    "colab_type": "text",
    "id": "kCiFVVkTAoDl"
   },
   "source": [
    "Let's see how many images there are in the `santa` directory."
   ]
  },
  {
   "cell_type": "code",
   "execution_count": 6,
   "metadata": {
    "colab": {},
    "colab_type": "code",
    "id": "8G1JAakAAoDm",
    "outputId": "9b2c19bf-3e6d-4960-95e7-6cbc372a7829"
   },
   "outputs": [
    {
     "name": "stdout",
     "output_type": "stream",
     "text": [
      "There are 461 santa images\n"
     ]
    }
   ],
   "source": [
    "print('There are', len(imgs_santa), 'santa images')"
   ]
  },
  {
   "cell_type": "markdown",
   "metadata": {
    "colab_type": "text",
    "id": "yoIB5QRqAoDp"
   },
   "source": [
    "Now, repeat this for the `not_santa` directory: "
   ]
  },
  {
   "cell_type": "code",
   "execution_count": 7,
   "metadata": {
    "colab": {},
    "colab_type": "code",
    "id": "3YY3IGMSAoDp"
   },
   "outputs": [],
   "source": [
    "imgs_not_santa = [file for file in os.listdir(data_not_santa_dir) if file.endswith('.jpg')]"
   ]
  },
  {
   "cell_type": "code",
   "execution_count": 8,
   "metadata": {
    "colab": {},
    "colab_type": "code",
    "id": "bwnbOwdIAoDt",
    "outputId": "2aa55401-574e-4609-ab88-1fb7b21b72b1"
   },
   "outputs": [
    {
     "name": "stdout",
     "output_type": "stream",
     "text": [
      "There are 461 images without santa\n"
     ]
    }
   ],
   "source": [
    "print('There are', len(imgs_not_santa), 'images without santa')"
   ]
  },
  {
   "cell_type": "markdown",
   "metadata": {
    "colab_type": "text",
    "id": "vyt3GkurAoDw"
   },
   "source": [
    "Create all the folders and subfolders in order to get the structure represented above. You can use `os.path.join()` to create strings that will be used later on to generate new directories."
   ]
  },
  {
   "cell_type": "code",
   "execution_count": 9,
   "metadata": {
    "colab": {},
    "colab_type": "code",
    "id": "BuMmECkfAoDw"
   },
   "outputs": [],
   "source": [
    "os.mkdir(new_dir)"
   ]
  },
  {
   "cell_type": "code",
   "execution_count": 10,
   "metadata": {
    "colab": {},
    "colab_type": "code",
    "id": "Zq5Dnm8CAoD0"
   },
   "outputs": [],
   "source": [
    "train_folder = os.path.join(new_dir, 'train')\n",
    "train_santa = os.path.join(train_folder, 'santa')\n",
    "train_not_santa = os.path.join(train_folder, 'not_santa')\n",
    "\n",
    "test_folder = os.path.join(new_dir, 'test')\n",
    "test_santa = os.path.join(test_folder, 'santa')\n",
    "test_not_santa = os.path.join(test_folder, 'not_santa')\n",
    "\n",
    "val_folder = os.path.join(new_dir, 'validation')\n",
    "val_santa = os.path.join(val_folder, 'santa')\n",
    "val_not_santa = os.path.join(val_folder, 'not_santa')"
   ]
  },
  {
   "cell_type": "code",
   "execution_count": 11,
   "metadata": {
    "colab": {},
    "colab_type": "code",
    "id": "x8XShvWwAoEB",
    "outputId": "ef668725-dd6e-4ac7-c8e5-d9cab32d1267"
   },
   "outputs": [
    {
     "data": {
      "text/plain": [
       "'split/train\\\\santa'"
      ]
     },
     "execution_count": 11,
     "metadata": {},
     "output_type": "execute_result"
    }
   ],
   "source": [
    "train_santa"
   ]
  },
  {
   "cell_type": "markdown",
   "metadata": {
    "colab_type": "text",
    "id": "xYFzn2oaAoEJ"
   },
   "source": [
    "Now use all the path strings you created to make new directories. You can use `os.mkdir()` to do this. Go have a look at your directory and see if this worked!"
   ]
  },
  {
   "cell_type": "code",
   "execution_count": 12,
   "metadata": {
    "colab": {},
    "colab_type": "code",
    "id": "DJjSTkERAoEK"
   },
   "outputs": [],
   "source": [
    "os.mkdir(test_folder)\n",
    "os.mkdir(test_santa)\n",
    "os.mkdir(test_not_santa)\n",
    "\n",
    "os.mkdir(train_folder)\n",
    "os.mkdir(train_santa)\n",
    "os.mkdir(train_not_santa)\n",
    "\n",
    "os.mkdir(val_folder)\n",
    "os.mkdir(val_santa)\n",
    "os.mkdir(val_not_santa)"
   ]
  },
  {
   "cell_type": "markdown",
   "metadata": {
    "colab_type": "text",
    "id": "vyi5dXFcAoEM"
   },
   "source": [
    "Copy the Santa images in the three santa subfolders. Let's put the first 271 images in the training set, the next 100 images in the validation set and the final 90 images in the test set."
   ]
  },
  {
   "cell_type": "code",
   "execution_count": 13,
   "metadata": {
    "colab": {},
    "colab_type": "code",
    "id": "scwvPFZnAoEN"
   },
   "outputs": [],
   "source": [
    "# train santa\n",
    "imgs = imgs_santa[:271]\n",
    "for img in imgs:\n",
    "    origin = os.path.join(data_santa_dir, img)\n",
    "    destination = os.path.join(train_santa, img)\n",
    "    shutil.copyfile(origin, destination)"
   ]
  },
  {
   "cell_type": "code",
   "execution_count": 14,
   "metadata": {
    "colab": {},
    "colab_type": "code",
    "id": "Jw0KXXvEAoEP"
   },
   "outputs": [],
   "source": [
    "# validation santa\n",
    "imgs = imgs_santa[271:371]\n",
    "for img in imgs:\n",
    "    origin = os.path.join(data_santa_dir, img)\n",
    "    destination = os.path.join(val_santa, img)\n",
    "    shutil.copyfile(origin, destination)"
   ]
  },
  {
   "cell_type": "code",
   "execution_count": 15,
   "metadata": {
    "colab": {},
    "colab_type": "code",
    "id": "zCtzGZM2AoES"
   },
   "outputs": [],
   "source": [
    "# test santa\n",
    "imgs = imgs_santa[371:]\n",
    "for img in imgs:\n",
    "    origin = os.path.join(data_santa_dir, img)\n",
    "    destination = os.path.join(test_santa, img)\n",
    "    shutil.copyfile(origin, destination)"
   ]
  },
  {
   "cell_type": "markdown",
   "metadata": {
    "colab_type": "text",
    "id": "USc5TUlXAoEU"
   },
   "source": [
    "Now, repeat all this for the `not_santa` images!"
   ]
  },
  {
   "cell_type": "code",
   "execution_count": 16,
   "metadata": {
    "colab": {},
    "colab_type": "code",
    "id": "wDKD91srAoEV"
   },
   "outputs": [],
   "source": [
    "# train not_santa\n",
    "imgs = imgs_not_santa[:271]\n",
    "for img in imgs:\n",
    "    origin = os.path.join(data_not_santa_dir, img)\n",
    "    destination = os.path.join(train_not_santa, img)\n",
    "    shutil.copyfile(origin, destination)\n",
    "# validation not_santa\n",
    "imgs = imgs_not_santa[271:371]\n",
    "for img in imgs:\n",
    "    origin = os.path.join(data_not_santa_dir, img)\n",
    "    destination = os.path.join(val_not_santa, img)\n",
    "    shutil.copyfile(origin, destination)\n",
    "# test not_santa\n",
    "imgs = imgs_not_santa[371:]\n",
    "for img in imgs:\n",
    "    origin = os.path.join(data_not_santa_dir, img)\n",
    "    destination = os.path.join(test_not_santa, img)\n",
    "    shutil.copyfile(origin, destination)"
   ]
  },
  {
   "cell_type": "markdown",
   "metadata": {
    "colab_type": "text",
    "id": "Tt7Ur9rpAoEX"
   },
   "source": [
    "Let's print out how many images we have in each directory so we know for sure our numbers are right!"
   ]
  },
  {
   "cell_type": "code",
   "execution_count": 17,
   "metadata": {
    "colab": {},
    "colab_type": "code",
    "id": "IJ9HkAq7AoEX",
    "outputId": "9fe90da6-fb3c-4c1b-feed-485e40ceabe7"
   },
   "outputs": [
    {
     "name": "stdout",
     "output_type": "stream",
     "text": [
      "There are 271 santa images in the training set\n"
     ]
    }
   ],
   "source": [
    "print('There are', len(os.listdir(train_santa)), 'santa images in the training set')"
   ]
  },
  {
   "cell_type": "code",
   "execution_count": 18,
   "metadata": {
    "colab": {},
    "colab_type": "code",
    "id": "MXLSFJ13AoEZ",
    "outputId": "06b1414f-fda1-404c-82ca-694b4f06d73b"
   },
   "outputs": [
    {
     "name": "stdout",
     "output_type": "stream",
     "text": [
      "There are 100 santa images in the validation set\n"
     ]
    }
   ],
   "source": [
    "print('There are', len(os.listdir(val_santa)), 'santa images in the validation set')"
   ]
  },
  {
   "cell_type": "code",
   "execution_count": 19,
   "metadata": {
    "colab": {},
    "colab_type": "code",
    "id": "UHHEjuFSAoEb",
    "outputId": "54b70819-8d8a-4461-9be4-3f5f7e03ef7d"
   },
   "outputs": [
    {
     "name": "stdout",
     "output_type": "stream",
     "text": [
      "There are 90 santa images in the test set\n"
     ]
    }
   ],
   "source": [
    "print('There are', len(os.listdir(test_santa)), 'santa images in the test set')"
   ]
  },
  {
   "cell_type": "code",
   "execution_count": 20,
   "metadata": {
    "colab": {},
    "colab_type": "code",
    "id": "Ruxdy24vAoEd",
    "outputId": "c3771397-c880-41f9-cd08-1409712c197a"
   },
   "outputs": [
    {
     "name": "stdout",
     "output_type": "stream",
     "text": [
      "There are 271 images without santa in the train set\n"
     ]
    }
   ],
   "source": [
    "print('There are', len(os.listdir(train_not_santa)), 'images without santa in the train set')"
   ]
  },
  {
   "cell_type": "code",
   "execution_count": 21,
   "metadata": {
    "colab": {},
    "colab_type": "code",
    "id": "KqnIQfqlAoEf",
    "outputId": "3ae1495e-b166-453e-9b04-38dd21e9d01d"
   },
   "outputs": [
    {
     "name": "stdout",
     "output_type": "stream",
     "text": [
      "There are 100 images without santa in the validation set\n"
     ]
    }
   ],
   "source": [
    "print('There are', len(os.listdir(val_not_santa)), 'images without santa in the validation set')"
   ]
  },
  {
   "cell_type": "code",
   "execution_count": 22,
   "metadata": {
    "colab": {},
    "colab_type": "code",
    "id": "7GMtRPb3AoEg",
    "outputId": "d5a46417-5864-46c8-f96c-b5a1198ed34d"
   },
   "outputs": [
    {
     "name": "stdout",
     "output_type": "stream",
     "text": [
      "There are 90 images without santa in the test set\n"
     ]
    }
   ],
   "source": [
    "print('There are', len(os.listdir(test_not_santa)), 'images without santa in the test set')"
   ]
  },
  {
   "cell_type": "markdown",
   "metadata": {
    "colab_type": "text",
    "id": "21m78gPxAoEi"
   },
   "source": [
    "## Use a densely connected network as a baseline"
   ]
  },
  {
   "cell_type": "markdown",
   "metadata": {
    "colab_type": "text",
    "id": "1kNvCEEJAoEi"
   },
   "source": [
    "Now that we've a handle on our data, we can easily use Keras' module with image-processing tools. Let's import the necessary libraries below. "
   ]
  },
  {
   "cell_type": "code",
   "execution_count": 23,
   "metadata": {
    "colab": {},
    "colab_type": "code",
    "id": "jE7H5gtyAoEj",
    "outputId": "90cda7c2-3242-408c-dca0-fcd161b12978"
   },
   "outputs": [
    {
     "name": "stderr",
     "output_type": "stream",
     "text": [
      "Using TensorFlow backend.\n"
     ]
    }
   ],
   "source": [
    "import time\n",
    "import matplotlib.pyplot as plt\n",
    "import scipy\n",
    "import numpy as np\n",
    "from PIL import Image\n",
    "from scipy import ndimage\n",
    "from keras.preprocessing.image import ImageDataGenerator, array_to_img, img_to_array, load_img\n",
    "\n",
    "np.random.seed(123)"
   ]
  },
  {
   "cell_type": "code",
   "execution_count": 24,
   "metadata": {
    "colab": {},
    "colab_type": "code",
    "id": "ZGtW2jtEAoEk",
    "outputId": "55e3d442-0463-4a9b-8175-25de10f24ae9"
   },
   "outputs": [
    {
     "name": "stdout",
     "output_type": "stream",
     "text": [
      "Found 180 images belonging to 2 classes.\n",
      "Found 200 images belonging to 2 classes.\n",
      "Found 542 images belonging to 2 classes.\n"
     ]
    }
   ],
   "source": [
    "# get all the data in the directory split/test (180 images), and reshape them\n",
    "test_generator = ImageDataGenerator(rescale=1./255).flow_from_directory(\n",
    "        test_folder, \n",
    "        target_size=(64, 64), batch_size = 180) \n",
    "\n",
    "# get all the data in the directory split/validation (200 images), and reshape them\n",
    "val_generator = ImageDataGenerator(rescale=1./255).flow_from_directory(\n",
    "        val_folder, \n",
    "        target_size=(64, 64), batch_size = 200)\n",
    "\n",
    "# get all the data in the directory split/train (542 images), and reshape them\n",
    "train_generator = ImageDataGenerator(rescale=1./255).flow_from_directory(\n",
    "        train_folder, \n",
    "        target_size=(64, 64), batch_size=542)"
   ]
  },
  {
   "cell_type": "code",
   "execution_count": 25,
   "metadata": {
    "colab": {},
    "colab_type": "code",
    "id": "zxewY9CqAoEn"
   },
   "outputs": [],
   "source": [
    "# create the data sets\n",
    "train_images, train_labels = next(train_generator)\n",
    "test_images, test_labels = next(test_generator)\n",
    "val_images, val_labels = next(val_generator)"
   ]
  },
  {
   "cell_type": "code",
   "execution_count": 26,
   "metadata": {
    "colab": {},
    "colab_type": "code",
    "id": "0j2YErGeAoEo",
    "outputId": "42580a2c-3a28-4c47-fee1-4eb7c3e5d5d3"
   },
   "outputs": [
    {
     "name": "stdout",
     "output_type": "stream",
     "text": [
      "Number of training samples: 542\n",
      "Number of testing samples: 180\n",
      "Number of validation samples: 200\n",
      "train_images shape: (542, 64, 64, 3)\n",
      "train_labels shape: (542, 2)\n",
      "test_images shape: (180, 64, 64, 3)\n",
      "test_labels shape: (180, 2)\n",
      "val_images shape: (200, 64, 64, 3)\n",
      "val_labels shape: (200, 2)\n"
     ]
    }
   ],
   "source": [
    "# Explore your dataset again\n",
    "m_train = train_images.shape[0]\n",
    "num_px = train_images.shape[1]\n",
    "m_test = test_images.shape[0]\n",
    "m_val = val_images.shape[0]\n",
    "\n",
    "print (\"Number of training samples: \" + str(m_train))\n",
    "print (\"Number of testing samples: \" + str(m_test))\n",
    "print (\"Number of validation samples: \" + str(m_val))\n",
    "print (\"train_images shape: \" + str(train_images.shape))\n",
    "print (\"train_labels shape: \" + str(train_labels.shape))\n",
    "print (\"test_images shape: \" + str(test_images.shape))\n",
    "print (\"test_labels shape: \" + str(test_labels.shape))\n",
    "print (\"val_images shape: \" + str(val_images.shape))\n",
    "print (\"val_labels shape: \" + str(val_labels.shape))"
   ]
  },
  {
   "cell_type": "code",
   "execution_count": 27,
   "metadata": {
    "colab": {},
    "colab_type": "code",
    "id": "H1r-oCFrAoEq",
    "outputId": "7379e430-308a-4217-f836-5937bf18cfea"
   },
   "outputs": [
    {
     "name": "stdout",
     "output_type": "stream",
     "text": [
      "(542, 12288)\n",
      "(180, 12288)\n",
      "(200, 12288)\n"
     ]
    }
   ],
   "source": [
    "train_img = train_images.reshape(train_images.shape[0], -1)\n",
    "test_img = test_images.reshape(test_images.shape[0], -1)\n",
    "val_img = val_images.reshape(val_images.shape[0], -1)\n",
    "\n",
    "print(train_img.shape)\n",
    "print(test_img.shape)\n",
    "print(val_img.shape)"
   ]
  },
  {
   "cell_type": "code",
   "execution_count": 28,
   "metadata": {
    "colab": {},
    "colab_type": "code",
    "id": "l-pEkPvqAoEr"
   },
   "outputs": [],
   "source": [
    "train_y = np.reshape(train_labels[:,0], (542,1))\n",
    "test_y = np.reshape(test_labels[:,0], (180,1))\n",
    "val_y = np.reshape(val_labels[:,0], (200,1))"
   ]
  },
  {
   "cell_type": "code",
   "execution_count": 29,
   "metadata": {
    "colab": {},
    "colab_type": "code",
    "id": "-Z9p4HpFAoEt"
   },
   "outputs": [],
   "source": [
    "# Build a baseline fully connected model\n",
    "from keras import models\n",
    "from keras import layers\n",
    "np.random.seed(123)\n",
    "model = models.Sequential()\n",
    "model.add(layers.Dense(20, activation='relu', input_shape=(12288,))) # 2 hidden layers\n",
    "model.add(layers.Dense(7, activation='relu'))\n",
    "model.add(layers.Dense(5, activation='relu'))\n",
    "model.add(layers.Dense(1, activation='sigmoid'))"
   ]
  },
  {
   "cell_type": "code",
   "execution_count": 30,
   "metadata": {
    "colab": {},
    "colab_type": "code",
    "id": "1L2lPbR5AoEv",
    "outputId": "06a6e904-557a-410f-f139-6cddc3192ba2"
   },
   "outputs": [
    {
     "name": "stdout",
     "output_type": "stream",
     "text": [
      "Epoch 1/50\n",
      "17/17 [==============================] - 0s 10ms/step - loss: 0.6811 - accuracy: 0.5369 - val_loss: 0.6716 - val_accuracy: 0.5100\n",
      "Epoch 2/50\n",
      "17/17 [==============================] - 0s 4ms/step - loss: 0.6577 - accuracy: 0.5369 - val_loss: 0.6593 - val_accuracy: 0.7050\n",
      "Epoch 3/50\n",
      "17/17 [==============================] - 0s 4ms/step - loss: 0.6405 - accuracy: 0.6494 - val_loss: 0.6421 - val_accuracy: 0.5350\n",
      "Epoch 4/50\n",
      "17/17 [==============================] - 0s 3ms/step - loss: 0.6351 - accuracy: 0.5867 - val_loss: 0.6619 - val_accuracy: 0.7000\n",
      "Epoch 5/50\n",
      "17/17 [==============================] - 0s 3ms/step - loss: 0.5961 - accuracy: 0.6790 - val_loss: 0.6932 - val_accuracy: 0.5850\n",
      "Epoch 6/50\n",
      "17/17 [==============================] - 0s 4ms/step - loss: 0.5918 - accuracy: 0.6661 - val_loss: 0.6113 - val_accuracy: 0.5350\n",
      "Epoch 7/50\n",
      "17/17 [==============================] - 0s 4ms/step - loss: 0.5701 - accuracy: 0.6993 - val_loss: 0.5970 - val_accuracy: 0.5550\n",
      "Epoch 8/50\n",
      "17/17 [==============================] - 0s 4ms/step - loss: 0.5623 - accuracy: 0.7140 - val_loss: 0.6058 - val_accuracy: 0.5400\n",
      "Epoch 9/50\n",
      "17/17 [==============================] - 0s 4ms/step - loss: 0.5509 - accuracy: 0.7675 - val_loss: 0.5877 - val_accuracy: 0.6950\n",
      "Epoch 10/50\n",
      "17/17 [==============================] - 0s 3ms/step - loss: 0.5224 - accuracy: 0.7712 - val_loss: 0.5509 - val_accuracy: 0.6900\n",
      "Epoch 11/50\n",
      "17/17 [==============================] - 0s 4ms/step - loss: 0.5197 - accuracy: 0.7657 - val_loss: 0.5343 - val_accuracy: 0.7300\n",
      "Epoch 12/50\n",
      "17/17 [==============================] - 0s 4ms/step - loss: 0.5129 - accuracy: 0.7675 - val_loss: 0.5450 - val_accuracy: 0.7700\n",
      "Epoch 13/50\n",
      "17/17 [==============================] - 0s 4ms/step - loss: 0.4758 - accuracy: 0.8100 - val_loss: 0.5690 - val_accuracy: 0.6750\n",
      "Epoch 14/50\n",
      "17/17 [==============================] - 0s 4ms/step - loss: 0.4823 - accuracy: 0.7952 - val_loss: 0.5007 - val_accuracy: 0.7850\n",
      "Epoch 15/50\n",
      "17/17 [==============================] - 0s 4ms/step - loss: 0.4269 - accuracy: 0.8321 - val_loss: 0.4906 - val_accuracy: 0.8000\n",
      "Epoch 16/50\n",
      "17/17 [==============================] - 0s 4ms/step - loss: 0.4246 - accuracy: 0.8118 - val_loss: 0.6325 - val_accuracy: 0.6350\n",
      "Epoch 17/50\n",
      "17/17 [==============================] - 0s 4ms/step - loss: 0.4548 - accuracy: 0.7897 - val_loss: 0.4899 - val_accuracy: 0.7650\n",
      "Epoch 18/50\n",
      "17/17 [==============================] - 0s 4ms/step - loss: 0.4664 - accuracy: 0.7934 - val_loss: 0.5558 - val_accuracy: 0.6700\n",
      "Epoch 19/50\n",
      "17/17 [==============================] - 0s 4ms/step - loss: 0.4550 - accuracy: 0.8007 - val_loss: 0.5259 - val_accuracy: 0.7500\n",
      "Epoch 20/50\n",
      "17/17 [==============================] - 0s 4ms/step - loss: 0.3834 - accuracy: 0.8708 - val_loss: 0.4748 - val_accuracy: 0.7950\n",
      "Epoch 21/50\n",
      "17/17 [==============================] - 0s 4ms/step - loss: 0.3394 - accuracy: 0.8690 - val_loss: 0.4599 - val_accuracy: 0.8050\n",
      "Epoch 22/50\n",
      "17/17 [==============================] - 0s 3ms/step - loss: 0.4182 - accuracy: 0.8247 - val_loss: 0.4984 - val_accuracy: 0.7550\n",
      "Epoch 23/50\n",
      "17/17 [==============================] - 0s 3ms/step - loss: 0.3868 - accuracy: 0.8321 - val_loss: 0.7590 - val_accuracy: 0.6500\n",
      "Epoch 24/50\n",
      "17/17 [==============================] - 0s 3ms/step - loss: 0.3595 - accuracy: 0.8542 - val_loss: 0.5993 - val_accuracy: 0.6700\n",
      "Epoch 25/50\n",
      "17/17 [==============================] - 0s 3ms/step - loss: 0.3776 - accuracy: 0.8303 - val_loss: 0.4751 - val_accuracy: 0.8000\n",
      "Epoch 26/50\n",
      "17/17 [==============================] - 0s 4ms/step - loss: 0.3111 - accuracy: 0.8653 - val_loss: 0.9345 - val_accuracy: 0.6300\n",
      "Epoch 27/50\n",
      "17/17 [==============================] - 0s 4ms/step - loss: 0.3322 - accuracy: 0.8542 - val_loss: 0.4489 - val_accuracy: 0.8250\n",
      "Epoch 28/50\n",
      "17/17 [==============================] - 0s 4ms/step - loss: 0.2563 - accuracy: 0.9244 - val_loss: 0.4396 - val_accuracy: 0.8100\n",
      "Epoch 29/50\n",
      "17/17 [==============================] - 0s 3ms/step - loss: 0.3666 - accuracy: 0.8561 - val_loss: 0.5728 - val_accuracy: 0.7350\n",
      "Epoch 30/50\n",
      "17/17 [==============================] - 0s 4ms/step - loss: 0.2597 - accuracy: 0.9077 - val_loss: 0.4344 - val_accuracy: 0.8400\n",
      "Epoch 31/50\n",
      "17/17 [==============================] - 0s 4ms/step - loss: 0.3224 - accuracy: 0.8542 - val_loss: 1.2196 - val_accuracy: 0.5850\n",
      "Epoch 32/50\n",
      "17/17 [==============================] - 0s 3ms/step - loss: 0.3401 - accuracy: 0.8782 - val_loss: 0.4650 - val_accuracy: 0.7950\n",
      "Epoch 33/50\n",
      "17/17 [==============================] - 0s 4ms/step - loss: 0.1963 - accuracy: 0.9428 - val_loss: 0.5855 - val_accuracy: 0.7300\n",
      "Epoch 34/50\n",
      "17/17 [==============================] - 0s 4ms/step - loss: 0.3236 - accuracy: 0.8819 - val_loss: 0.4387 - val_accuracy: 0.8250\n",
      "Epoch 35/50\n",
      "17/17 [==============================] - 0s 3ms/step - loss: 0.3434 - accuracy: 0.8376 - val_loss: 0.4335 - val_accuracy: 0.8400\n",
      "Epoch 36/50\n",
      "17/17 [==============================] - 0s 4ms/step - loss: 0.1941 - accuracy: 0.9446 - val_loss: 0.4453 - val_accuracy: 0.8200\n",
      "Epoch 37/50\n",
      "17/17 [==============================] - 0s 4ms/step - loss: 0.2249 - accuracy: 0.9151 - val_loss: 0.4934 - val_accuracy: 0.7700\n",
      "Epoch 38/50\n",
      "17/17 [==============================] - 0s 4ms/step - loss: 0.2131 - accuracy: 0.9262 - val_loss: 1.5865 - val_accuracy: 0.5700\n",
      "Epoch 39/50\n",
      "17/17 [==============================] - 0s 4ms/step - loss: 0.3126 - accuracy: 0.8782 - val_loss: 0.4877 - val_accuracy: 0.8050\n",
      "Epoch 40/50\n",
      "17/17 [==============================] - 0s 4ms/step - loss: 0.2153 - accuracy: 0.9225 - val_loss: 0.4323 - val_accuracy: 0.8350\n",
      "Epoch 41/50\n",
      "17/17 [==============================] - 0s 4ms/step - loss: 0.2027 - accuracy: 0.9225 - val_loss: 0.4392 - val_accuracy: 0.8350\n",
      "Epoch 42/50\n",
      "17/17 [==============================] - 0s 4ms/step - loss: 0.1675 - accuracy: 0.9354 - val_loss: 0.7117 - val_accuracy: 0.6800\n",
      "Epoch 43/50\n",
      "17/17 [==============================] - 0s 4ms/step - loss: 0.2584 - accuracy: 0.9022 - val_loss: 0.5985 - val_accuracy: 0.7500\n",
      "Epoch 44/50\n",
      "17/17 [==============================] - 0s 4ms/step - loss: 0.2327 - accuracy: 0.9059 - val_loss: 0.5085 - val_accuracy: 0.7650\n",
      "Epoch 45/50\n",
      "17/17 [==============================] - 0s 3ms/step - loss: 0.2023 - accuracy: 0.9170 - val_loss: 0.4697 - val_accuracy: 0.8300\n",
      "Epoch 46/50\n",
      "17/17 [==============================] - 0s 3ms/step - loss: 0.1940 - accuracy: 0.9373 - val_loss: 0.7763 - val_accuracy: 0.7050\n",
      "Epoch 47/50\n",
      "17/17 [==============================] - 0s 4ms/step - loss: 0.1886 - accuracy: 0.9225 - val_loss: 0.4988 - val_accuracy: 0.7900\n",
      "Epoch 48/50\n",
      "17/17 [==============================] - 0s 4ms/step - loss: 0.1875 - accuracy: 0.9446 - val_loss: 0.5236 - val_accuracy: 0.8050\n",
      "Epoch 49/50\n",
      "17/17 [==============================] - 0s 4ms/step - loss: 0.1335 - accuracy: 0.9483 - val_loss: 0.7966 - val_accuracy: 0.6600\n",
      "Epoch 50/50\n",
      "17/17 [==============================] - 0s 3ms/step - loss: 0.2367 - accuracy: 0.9170 - val_loss: 0.4617 - val_accuracy: 0.8250\n"
     ]
    }
   ],
   "source": [
    "model.compile(optimizer='sgd',\n",
    "              loss='binary_crossentropy',\n",
    "              metrics=['accuracy'])\n",
    "\n",
    "histoire = model.fit(train_img,\n",
    "                    train_y,\n",
    "                    epochs=50,\n",
    "                    batch_size=32,\n",
    "                    validation_data=(val_img, val_y))"
   ]
  },
  {
   "cell_type": "code",
   "execution_count": 31,
   "metadata": {
    "colab": {},
    "colab_type": "code",
    "id": "WHAAn0VLAoEw",
    "outputId": "2f688495-3703-443c-80cc-309029dbd9e0"
   },
   "outputs": [
    {
     "name": "stdout",
     "output_type": "stream",
     "text": [
      "17/17 [==============================] - 0s 1ms/step - loss: 0.0981 - accuracy: 0.9815\n"
     ]
    }
   ],
   "source": [
    "results_train = model.evaluate(train_img, train_y)"
   ]
  },
  {
   "cell_type": "code",
   "execution_count": 32,
   "metadata": {
    "colab": {},
    "colab_type": "code",
    "id": "jT2-71D9AoEy",
    "outputId": "8fc2ba98-ff43-4bc6-f3b1-5709ff844fe4"
   },
   "outputs": [
    {
     "name": "stdout",
     "output_type": "stream",
     "text": [
      "6/6 [==============================] - 0s 1ms/step - loss: 0.5434 - accuracy: 0.7667\n"
     ]
    }
   ],
   "source": [
    "results_test = model.evaluate(test_img, test_y)"
   ]
  },
  {
   "cell_type": "code",
   "execution_count": 33,
   "metadata": {
    "colab": {},
    "colab_type": "code",
    "id": "XphyQ56OAoEz",
    "outputId": "c550dab5-3369-481b-ffaa-2cfa322cc55f"
   },
   "outputs": [
    {
     "data": {
      "text/plain": [
       "[0.09805582463741302, 0.9815497994422913]"
      ]
     },
     "execution_count": 33,
     "metadata": {},
     "output_type": "execute_result"
    }
   ],
   "source": [
    "results_train"
   ]
  },
  {
   "cell_type": "code",
   "execution_count": 34,
   "metadata": {
    "colab": {},
    "colab_type": "code",
    "id": "ZseaItGcAoE1",
    "outputId": "3a35b999-2a9d-4f95-e7db-a194704bfc6f"
   },
   "outputs": [
    {
     "data": {
      "text/plain": [
       "[0.5434306263923645, 0.7666666507720947]"
      ]
     },
     "execution_count": 34,
     "metadata": {},
     "output_type": "execute_result"
    }
   ],
   "source": [
    "results_test"
   ]
  },
  {
   "cell_type": "markdown",
   "metadata": {
    "colab_type": "text",
    "id": "H2gcIcOlAoE3"
   },
   "source": [
    "Remember that, in our previous lab on building deeper neural networks from scratch, we obtained a training accuracy of 95%, and a test set accuracy of 74.23%. \n",
    "\n",
    "This result is similar to what we got building our manual \"deeper\" dense model. The results are not entirely different. This is not a surprise!\n",
    "- Before, we only had a training and a validation set (which was at the same time the test set). Now we have split up the data 3-ways.\n",
    "- We didn't use minibatches before, yet we used mini-batches of 32 units here.\n",
    " \n",
    "## Build a CNN"
   ]
  },
  {
   "cell_type": "code",
   "execution_count": 35,
   "metadata": {
    "colab": {},
    "colab_type": "code",
    "id": "NaG4KFmDAoE4"
   },
   "outputs": [],
   "source": [
    "model = models.Sequential()\n",
    "model.add(layers.Conv2D(32, (3, 3), activation='relu',\n",
    "                        input_shape=(64 ,64,  3)))\n",
    "model.add(layers.MaxPooling2D((2, 2)))\n",
    "\n",
    "model.add(layers.Conv2D(32, (4, 4), activation='relu'))\n",
    "model.add(layers.MaxPooling2D((2, 2)))\n",
    "\n",
    "model.add(layers.Conv2D(64, (3, 3), activation='relu'))\n",
    "model.add(layers.MaxPooling2D((2, 2)))\n",
    "\n",
    "model.add(layers.Flatten())\n",
    "model.add(layers.Dense(64, activation='relu'))\n",
    "model.add(layers.Dense(1, activation='sigmoid'))\n",
    "\n",
    "model.compile(loss='binary_crossentropy',\n",
    "              optimizer=\"sgd\",\n",
    "              metrics=['acc'])"
   ]
  },
  {
   "cell_type": "code",
   "execution_count": 36,
   "metadata": {
    "colab": {},
    "colab_type": "code",
    "id": "K7RJnbrcAoE5",
    "outputId": "7fb16438-a062-4c25-837d-cef6d79535d5"
   },
   "outputs": [
    {
     "name": "stdout",
     "output_type": "stream",
     "text": [
      "Epoch 1/30\n",
      "17/17 [==============================] - 1s 68ms/step - loss: 0.6898 - acc: 0.5055 - val_loss: 0.6766 - val_acc: 0.5000\n",
      "Epoch 2/30\n",
      "17/17 [==============================] - 1s 64ms/step - loss: 0.6770 - acc: 0.5000 - val_loss: 0.6656 - val_acc: 0.5000\n",
      "Epoch 3/30\n",
      "17/17 [==============================] - 1s 64ms/step - loss: 0.6683 - acc: 0.5000 - val_loss: 0.6567 - val_acc: 0.5000\n",
      "Epoch 4/30\n",
      "17/17 [==============================] - 1s 63ms/step - loss: 0.6594 - acc: 0.5037 - val_loss: 0.6486 - val_acc: 0.5150\n",
      "Epoch 5/30\n",
      "17/17 [==============================] - 1s 64ms/step - loss: 0.6487 - acc: 0.5314 - val_loss: 0.6343 - val_acc: 0.5100\n",
      "Epoch 6/30\n",
      "17/17 [==============================] - 1s 64ms/step - loss: 0.6371 - acc: 0.5738 - val_loss: 0.6198 - val_acc: 0.5450\n",
      "Epoch 7/30\n",
      "17/17 [==============================] - 1s 66ms/step - loss: 0.6194 - acc: 0.6494 - val_loss: 0.6010 - val_acc: 0.6200\n",
      "Epoch 8/30\n",
      "17/17 [==============================] - 1s 63ms/step - loss: 0.5992 - acc: 0.7288 - val_loss: 0.5784 - val_acc: 0.7200\n",
      "Epoch 9/30\n",
      "17/17 [==============================] - 1s 65ms/step - loss: 0.5745 - acc: 0.7878 - val_loss: 0.5515 - val_acc: 0.7800\n",
      "Epoch 10/30\n",
      "17/17 [==============================] - 1s 64ms/step - loss: 0.5465 - acc: 0.8303 - val_loss: 0.5214 - val_acc: 0.8750\n",
      "Epoch 11/30\n",
      "17/17 [==============================] - 1s 64ms/step - loss: 0.5142 - acc: 0.8450 - val_loss: 0.4935 - val_acc: 0.8100\n",
      "Epoch 12/30\n",
      "17/17 [==============================] - 1s 66ms/step - loss: 0.4799 - acc: 0.8579 - val_loss: 0.4634 - val_acc: 0.8200\n",
      "Epoch 13/30\n",
      "17/17 [==============================] - 1s 65ms/step - loss: 0.4440 - acc: 0.8708 - val_loss: 0.4079 - val_acc: 0.9050\n",
      "Epoch 14/30\n",
      "17/17 [==============================] - 1s 63ms/step - loss: 0.4410 - acc: 0.8339 - val_loss: 0.4134 - val_acc: 0.8450\n",
      "Epoch 15/30\n",
      "17/17 [==============================] - 1s 64ms/step - loss: 0.3833 - acc: 0.8672 - val_loss: 0.3459 - val_acc: 0.9150\n",
      "Epoch 16/30\n",
      "17/17 [==============================] - 1s 65ms/step - loss: 0.3961 - acc: 0.8487 - val_loss: 0.3612 - val_acc: 0.8950\n",
      "Epoch 17/30\n",
      "17/17 [==============================] - 1s 66ms/step - loss: 0.3321 - acc: 0.8893 - val_loss: 0.3185 - val_acc: 0.8950\n",
      "Epoch 18/30\n",
      "17/17 [==============================] - 1s 65ms/step - loss: 0.3550 - acc: 0.8653 - val_loss: 0.3376 - val_acc: 0.8550\n",
      "Epoch 19/30\n",
      "17/17 [==============================] - 1s 64ms/step - loss: 0.3504 - acc: 0.8542 - val_loss: 0.3130 - val_acc: 0.8800\n",
      "Epoch 20/30\n",
      "17/17 [==============================] - 1s 65ms/step - loss: 0.3123 - acc: 0.8838 - val_loss: 0.2721 - val_acc: 0.9300\n",
      "Epoch 21/30\n",
      "17/17 [==============================] - 1s 64ms/step - loss: 0.2951 - acc: 0.8985 - val_loss: 0.2662 - val_acc: 0.9400\n",
      "Epoch 22/30\n",
      "17/17 [==============================] - 1s 63ms/step - loss: 0.2725 - acc: 0.8893 - val_loss: 0.4602 - val_acc: 0.8350\n",
      "Epoch 23/30\n",
      "17/17 [==============================] - 1s 64ms/step - loss: 0.3160 - acc: 0.8875 - val_loss: 0.2810 - val_acc: 0.9300\n",
      "Epoch 24/30\n",
      "17/17 [==============================] - 1s 64ms/step - loss: 0.2815 - acc: 0.8893 - val_loss: 0.2609 - val_acc: 0.9350\n",
      "Epoch 25/30\n",
      "17/17 [==============================] - 1s 64ms/step - loss: 0.2531 - acc: 0.9188 - val_loss: 0.2659 - val_acc: 0.8950\n",
      "Epoch 26/30\n",
      "17/17 [==============================] - 1s 65ms/step - loss: 0.2813 - acc: 0.8838 - val_loss: 0.2447 - val_acc: 0.9200\n",
      "Epoch 27/30\n",
      "17/17 [==============================] - 1s 65ms/step - loss: 0.2475 - acc: 0.9041 - val_loss: 0.2738 - val_acc: 0.8750\n",
      "Epoch 28/30\n",
      "17/17 [==============================] - 1s 65ms/step - loss: 0.2211 - acc: 0.9096 - val_loss: 0.2768 - val_acc: 0.9300\n",
      "Epoch 29/30\n",
      "17/17 [==============================] - 1s 64ms/step - loss: 0.2757 - acc: 0.8967 - val_loss: 0.2896 - val_acc: 0.9250\n",
      "Epoch 30/30\n",
      "17/17 [==============================] - 1s 64ms/step - loss: 0.2152 - acc: 0.9262 - val_loss: 0.2197 - val_acc: 0.9350\n"
     ]
    }
   ],
   "source": [
    "history = model.fit(train_images,\n",
    "                    train_y,\n",
    "                    epochs=30,\n",
    "                    batch_size=32,\n",
    "                    validation_data=(val_images, val_y))"
   ]
  },
  {
   "cell_type": "code",
   "execution_count": 37,
   "metadata": {
    "colab": {},
    "colab_type": "code",
    "id": "CO9aCFASAoE7",
    "outputId": "d0f9ac15-3e24-448f-aff3-dc4c31668f2a"
   },
   "outputs": [
    {
     "name": "stdout",
     "output_type": "stream",
     "text": [
      "17/17 [==============================] - 0s 14ms/step - loss: 0.2037 - acc: 0.9225\n"
     ]
    }
   ],
   "source": [
    "results_train = model.evaluate(train_images, train_y)"
   ]
  },
  {
   "cell_type": "code",
   "execution_count": 38,
   "metadata": {
    "colab": {},
    "colab_type": "code",
    "id": "AEihGQ-QAoE9",
    "outputId": "4e078d6d-1c6a-4bed-8927-cb5a0cf3d79b"
   },
   "outputs": [
    {
     "name": "stdout",
     "output_type": "stream",
     "text": [
      "6/6 [==============================] - 0s 12ms/step - loss: 0.3298 - acc: 0.8500\n"
     ]
    }
   ],
   "source": [
    "results_test = model.evaluate(test_images, test_y)"
   ]
  },
  {
   "cell_type": "code",
   "execution_count": 39,
   "metadata": {
    "colab": {},
    "colab_type": "code",
    "id": "agectOCiAoE-",
    "outputId": "c14972eb-f14e-43fe-918d-deabb3eb3f9e"
   },
   "outputs": [
    {
     "data": {
      "text/plain": [
       "[0.20373380184173584, 0.9225092530250549]"
      ]
     },
     "execution_count": 39,
     "metadata": {},
     "output_type": "execute_result"
    }
   ],
   "source": [
    "results_train"
   ]
  },
  {
   "cell_type": "code",
   "execution_count": 40,
   "metadata": {
    "colab": {},
    "colab_type": "code",
    "id": "3xMDaPsTAoE_",
    "outputId": "2de50e33-f588-42e5-ea1f-ab9dc519093e"
   },
   "outputs": [
    {
     "data": {
      "text/plain": [
       "[0.32978400588035583, 0.8500000238418579]"
      ]
     },
     "execution_count": 40,
     "metadata": {},
     "output_type": "execute_result"
    }
   ],
   "source": [
    "results_test"
   ]
  },
  {
   "cell_type": "markdown",
   "metadata": {
    "colab_type": "text",
    "id": "iOXZ3ldLAoFC"
   },
   "source": [
    "## Data Augmentation"
   ]
  },
  {
   "cell_type": "markdown",
   "metadata": {
    "colab_type": "text",
    "id": "Y7Igr3nQAoFD"
   },
   "source": [
    "`ImageDataGenerator()` becomes really useful when we *actually* want to generate more data. We'll show you how this works. "
   ]
  },
  {
   "cell_type": "code",
   "execution_count": 41,
   "metadata": {
    "colab": {},
    "colab_type": "code",
    "id": "7e2Fpb9gAoFD"
   },
   "outputs": [],
   "source": [
    "train_datagen = ImageDataGenerator(rescale=1./255, \n",
    "                                   rotation_range=40, \n",
    "                                   width_shift_range=0.2, \n",
    "                                   height_shift_range=0.2, \n",
    "                                   shear_range=0.3, \n",
    "                                   zoom_range=0.1, \n",
    "                                   horizontal_flip=False)"
   ]
  },
  {
   "cell_type": "code",
   "execution_count": 42,
   "metadata": {
    "colab": {},
    "colab_type": "code",
    "id": "SC-X1aTAAoFF",
    "outputId": "c6949be4-03e5-4a3b-cd2f-ef927ad716c9"
   },
   "outputs": [
    {
     "data": {
      "image/png": "[encoded data removed]",
      "text/plain": [
       "<Figure size 432x288 with 1 Axes>"
      ]
     },
     "metadata": {
      "needs_background": "light"
     },
     "output_type": "display_data"
    },
    {
     "data": {
      "image/png": "[encoded data removed]",
      "text/plain": [
       "<Figure size 432x288 with 1 Axes>"
      ]
     },
     "metadata": {
      "needs_background": "light"
     },
     "output_type": "display_data"
    },
    {
     "data": {
      "image/png": "[encoded data removed]",
      "text/plain": [
       "<Figure size 432x288 with 1 Axes>"
      ]
     },
     "metadata": {
      "needs_background": "light"
     },
     "output_type": "display_data"
    }
   ],
   "source": [
    "names = [os.path.join(train_santa, name) for name in os.listdir(train_santa)]\n",
    "img_path = names[91]\n",
    "img = load_img(img_path, target_size=(64, 64))\n",
    "\n",
    "reshape_img = img_to_array(img) \n",
    "reshape_img = reshape_img.reshape((1,) + reshape_img.shape) \n",
    "i=0\n",
    "for batch in train_datagen.flow(reshape_img, batch_size=1):\n",
    "    plt.figure(i)\n",
    "    imgplot = plt.imshow(array_to_img(batch[0]))\n",
    "    i += 1\n",
    "    if i % 3 == 0:\n",
    "        break\n",
    "plt.show()"
   ]
  },
  {
   "cell_type": "code",
   "execution_count": 43,
   "metadata": {
    "colab": {},
    "colab_type": "code",
    "id": "4uVlkGeIAoFH",
    "outputId": "e4a15242-a503-4a47-f316-1b64b28561e5"
   },
   "outputs": [
    {
     "name": "stdout",
     "output_type": "stream",
     "text": [
      "Found 180 images belonging to 2 classes.\n",
      "Found 200 images belonging to 2 classes.\n",
      "Found 542 images belonging to 2 classes.\n"
     ]
    }
   ],
   "source": [
    "# get all the data in the directory split/test (180 images), and reshape them\n",
    "test_generator = ImageDataGenerator(rescale=1./255).flow_from_directory(\n",
    "        test_folder, \n",
    "        target_size=(64, 64), \n",
    "        batch_size = 180,\n",
    "        class_mode='binary') \n",
    "\n",
    "# get all the data in the directory split/validation (200 images), and reshape them\n",
    "val_generator = ImageDataGenerator(rescale=1./255).flow_from_directory(\n",
    "        val_folder, \n",
    "        target_size=(64, 64),\n",
    "        batch_size = 32,\n",
    "        class_mode='binary')\n",
    "\n",
    "# get all the data in the directory split/train (542 images), and reshape them\n",
    "train_generator = train_datagen.flow_from_directory(\n",
    "        train_folder, \n",
    "        target_size=(64, 64), \n",
    "        batch_size = 32, \n",
    "        class_mode='binary')"
   ]
  },
  {
   "cell_type": "code",
   "execution_count": 44,
   "metadata": {
    "colab": {},
    "colab_type": "code",
    "id": "WD71uB1aAoFJ"
   },
   "outputs": [],
   "source": [
    "model = models.Sequential()\n",
    "model.add(layers.Conv2D(32, (3, 3), activation='relu',\n",
    "                        input_shape=(64 ,64,  3)))\n",
    "model.add(layers.MaxPooling2D((2, 2)))\n",
    "\n",
    "model.add(layers.Conv2D(32, (4, 4), activation='relu'))\n",
    "model.add(layers.MaxPooling2D((2, 2)))\n",
    "\n",
    "model.add(layers.Conv2D(64, (3, 3), activation='relu'))\n",
    "model.add(layers.MaxPooling2D((2, 2)))\n",
    "\n",
    "model.add(layers.Flatten())\n",
    "model.add(layers.Dense(64, activation='relu'))\n",
    "model.add(layers.Dense(1, activation='sigmoid'))\n",
    "\n",
    "model.compile(loss='binary_crossentropy',\n",
    "              optimizer= 'sgd',\n",
    "              metrics=['acc'])"
   ]
  },
  {
   "cell_type": "code",
   "execution_count": 46,
   "metadata": {
    "colab": {},
    "colab_type": "code",
    "id": "JoXUkdU_AoFL",
    "outputId": "5dce72a3-9c6a-4be5-f6c1-252678882da6"
   },
   "outputs": [
    {
     "name": "stdout",
     "output_type": "stream",
     "text": [
      "Epoch 1/30\n",
      "17/25 [===================>..........] - ETA: 3s - loss: 0.6807 - acc: 0.5018"
     ]
    },
    {
     "name": "stderr",
     "output_type": "stream",
     "text": [
      "W0623 00:16:44.135969 27752 data_adapter.py:1153] Your input ran out of data; interrupting training. Make sure that your dataset or generator can generate at least `steps_per_epoch * epochs` batches (in this case, 750 batches). You may need to use the repeat() function when building your dataset.\n",
      "W0623 00:16:47.445120 27752 data_adapter.py:1153] Your input ran out of data; interrupting training. Make sure that your dataset or generator can generate at least `steps_per_epoch * epochs` batches (in this case, 25 batches). You may need to use the repeat() function when building your dataset.\n"
     ]
    },
    {
     "name": "stdout",
     "output_type": "stream",
     "text": [
      "\b\b\b\b\b\b\b\b\b\b\b\b\b\b\b\b\b\b\b\b\b\b\b\b\b\b\b\b\b\b\b\b\b\b\b\b\b\b\b\b\b\b\b\b\b\b\b\b\b\b\b\b\b\b\b\b\b\b\b\b\b\b\b\b\b\b\b\b\b\b\b\b\b\b\b\b\b\r",
      "17/25 [===================>..........] - 11s 629ms/step - loss: 0.6807 - acc: 0.5018 - val_loss: 0.6728 - val_acc: 0.5000\n"
     ]
    }
   ],
   "source": [
    "history_2 = model.fit_generator(train_generator, \n",
    "                                steps_per_epoch=25, \n",
    "                                epochs=30, \n",
    "                                validation_data=val_generator, \n",
    "                                validation_steps=25)"
   ]
  },
  {
   "cell_type": "code",
   "execution_count": null,
   "metadata": {
    "colab": {},
    "colab_type": "code",
    "id": "wLhiQ2z1AoFN"
   },
   "outputs": [],
   "source": [
    "test_x, test_y = next(test_generator)"
   ]
  },
  {
   "cell_type": "code",
   "execution_count": null,
   "metadata": {
    "colab": {},
    "colab_type": "code",
    "id": "jZ_hfNOxAoFO",
    "outputId": "7e755054-19f5-43c8-e7f1-1efb7e9a8aa6"
   },
   "outputs": [
    {
     "name": "stdout",
     "output_type": "stream",
     "text": [
      "180/180 [==============================] - 0s 1ms/step\n"
     ]
    }
   ],
   "source": [
    "results_test = model.evaluate(test_x, test_y)"
   ]
  },
  {
   "cell_type": "code",
   "execution_count": null,
   "metadata": {
    "colab": {},
    "colab_type": "code",
    "id": "js04xfY8AoFQ",
    "outputId": "b261f457-ae72-47f2-db69-5ac251a685e7"
   },
   "outputs": [
    {
     "data": {
      "text/plain": [
       "[0.2512160725063748, 0.9277777751286824]"
      ]
     },
     "execution_count": 47,
     "metadata": {
      "tags": []
     },
     "output_type": "execute_result"
    }
   ],
   "source": [
    "results_test"
   ]
  },
  {
   "cell_type": "markdown",
   "metadata": {
    "colab_type": "text",
    "id": "VabfWV8WAoFR"
   },
   "source": [
    "## Summary  \n",
    "\n",
    "In this code along lab, we looked again at some of the preprocessing techniques needed in order to organize our data prior to building a model using Keras. Afterwards, we investigated new code in order to build a CNN for image recognition."
   ]
  }
 ],
 "metadata": {
  "colab": {
   "name": "index.ipynb",
   "provenance": []
  },
  "kernelspec": {
   "display_name": "Python 3",
   "language": "python",
   "name": "python3"
  },
  "language_info": {
   "codemirror_mode": {
    "name": "ipython",
    "version": 3
   },
   "file_extension": ".py",
   "mimetype": "text/x-python",
   "name": "python",
   "nbconvert_exporter": "python",
   "pygments_lexer": "ipython3",
   "version": "3.6.9"
  },
  "toc": {
   "base_numbering": 1,
   "nav_menu": {},
   "number_sections": true,
   "sideBar": true,
   "skip_h1_title": true,
   "title_cell": "Table of Contents",
   "title_sidebar": "Contents",
   "toc_cell": false,
   "toc_position": {},
   "toc_section_display": true,
   "toc_window_display": false
  }
 },
 "nbformat": 4,
 "nbformat_minor": 1
}
