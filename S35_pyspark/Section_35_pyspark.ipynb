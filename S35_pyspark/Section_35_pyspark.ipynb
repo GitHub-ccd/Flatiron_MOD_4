{
 "cells": [
  {
   "cell_type": "markdown",
   "metadata": {},
   "source": [
    "# Section 35 - pyspark lessons and labs\n",
    "\n",
    "\n",
    "[Apache Spark - Introduction](./dsc-spark-introduction-onl01-dtsc-ft-030220/index.ipynb)<br>\n",
    "\n",
    "\n",
    "[big-data-introduction](./dsc-big-data-introduction-onl01-dtsc-ft-030220/index.ipynb)<br>\n",
    "- List the domain areas where big data is particularly useful \n",
    "- List the technologies associated with big data \n",
    "- Describe the 3 V's of big data and how they differentiate big data from routine data\n",
    "\n",
    "[parallel-and-distributed-computing-with-mapreduce](./dsc-parallel-and-distributed-computing-with-mapreduce-onl01-dtsc-ft-030220/index.ipynb)<br>\n",
    "- Explain how the MapReduce paradigm works and how it differs from traditional programming approaches \n",
    "- Explain what is meant by distributed and parallel processing \n",
    "- Use MapReduce with a simple word count example \n",
    "\n",
    "[big-data-analytics-apache-spark](./dsc-big-data-analytics-apache-spark-onl01-dtsc-ft-030220/index.ipynb)<br>\n",
    "- Describe the role of Apache Spark in Big data analytics \n",
    "- List some of the Spark functionalities \n",
    "- Describe the role of RDDs in spark \n",
    "\n",
    "[spark-docker-installation](./dsc-spark-docker-installation-onl01-dtsc-ft-030220/index.ipynb)<br>\n",
    "- Explain the utility of Docker when dealing with package management \n",
    "- Install a Docker container that comes packaged with Spark \n",
    "\n",
    "[ds-spark-sparkcontext](./ds-spark-sparkcontext-onl01-dtsc-ft-030220/index.ipynb)<br>\n",
    "* Describe Spark's parallalism with master and executor nodes. \n",
    "* Understand `SparkContext()` for managing connections in parallel applications. \n",
    "* Provide an overview of major `SparkContext()` properties and methods.  \n",
    "\n",
    "[resilient-distributed-datasets-rdd-lab](./dsc-resilient-distributed-datasets-rdd-lab-onl01-dtsc-ft-030220/index.ipynb)<br>\n",
    "\n",
    "\n",
    "[word-count-with-map-reduce-lab](./dsc-word-count-with-map-reduce-lab-onl01-dtsc-ft-030220/index.ipynb)<br>\n",
    "\n",
    "\n",
    "[machine-learning-with-spark](./dsc-machine-learning-with-spark-onl01-dtsc-ft-030220/index.ipynb)<br>\n",
    "\n",
    "\n",
    "[machine-learning-with-spark-lab](./dsc-machine-learning-with-spark-lab-onl01-dtsc-ft-030220/index.ipynb)<br>\n",
    "\n",
    "\n",
    "[spark-section-recap](./dsc-spark-section-recap-onl01-dtsc-ft-030220/index.ipynb)<br>\n"
   ]
  },
  {
   "cell_type": "code",
   "execution_count": null,
   "metadata": {},
   "outputs": [],
   "source": []
  }
 ],
 "metadata": {
  "kernelspec": {
   "display_name": "Python 3",
   "language": "python",
   "name": "python3"
  },
  "language_info": {
   "codemirror_mode": {
    "name": "ipython",
    "version": 3
   },
   "file_extension": ".py",
   "mimetype": "text/x-python",
   "name": "python",
   "nbconvert_exporter": "python",
   "pygments_lexer": "ipython3",
   "version": "3.6.9"
  },
  "toc": {
   "base_numbering": 1,
   "nav_menu": {},
   "number_sections": true,
   "sideBar": true,
   "skip_h1_title": true,
   "title_cell": "Table of Contents",
   "title_sidebar": "Contents",
   "toc_cell": false,
   "toc_position": {},
   "toc_section_display": true,
   "toc_window_display": false
  }
 },
 "nbformat": 4,
 "nbformat_minor": 2
}
