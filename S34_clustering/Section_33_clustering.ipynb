{
 "cells": [
  {
   "cell_type": "markdown",
   "metadata": {},
   "source": [
    "# Section 34 - clustering lessons and labs\n",
    "\n",
    "[clustering-intro](./dsc-clustering-intro-onl01-dtsc-ft-030220/index.ipynb)<br>\n",
    "\n",
    "\n",
    "[k-means-clustering](./dsc-k-means-clustering-onl01-dtsc-ft-030220/index.ipynb)<br>\n",
    "- Compare the different approaches to clustering networks \n",
    "- Explain the steps behind the K-means clustering algorithm \n",
    "- Perform k-means clustering in scikit-learn \n",
    "- Explain how clusters are evaluated \n",
    "- Define an \"elbow plot\" and how to interpret it \n",
    "\n",
    "[k-means-clustering-lab](./dsc-k-means-clustering-lab-onl01-dtsc-ft-030220/index.ipynb)<br>\n",
    "K-means Algorithm \n",
    "\n",
    "The k-means clustering algorithm is an iterative algorithm that reaches for a predetermined number of clusters within an unlabeled dataset, and basically works as follows:\n",
    "\n",
    "- Select $k$ initial seeds\n",
    "- Assign each observation to the cluster to which it is the \"closest\" \n",
    "- Recompute the cluster centroids\n",
    "- Reassign the observations to one of the clusters according to some rule\n",
    "- Stop if there is no reallocation \n",
    "\n",
    "\n",
    "[hierarchical-agglomerative-clustering](./dsc-hierarchical-agglomerative-clustering-onl01-dtsc-ft-030220/index.ipynb)<br>\n",
    "\n",
    "\n",
    "[common-problems-with-clustering](./dsc-common-problems-with-clustering-onl01-dtsc-ft-030220/index.ipynb)<br>\n",
    "\n",
    "\n",
    "[hierarchical-agglomerative-clustering-codealong](./dsc-hierarchical-agglomerative-clustering-codealong-onl01-dtsc-ft-030220/index.ipynb)<br>\n",
    "\n",
    "\n",
    "[market-segmentation-clustering](./dsc-market-segmentation-clustering-onl01-dtsc-ft-030220/index.ipynb)<br>\n",
    "\n",
    "\n",
    "[market-segmentation-clustering-lab](./dsc-market-segmentation-clustering-lab-onl01-dtsc-ft-030220/index.ipynb)<br>\n",
    "\n",
    "\n",
    "[semi-supervised-learning-and-look-alike-models](./dsc-semi-supervised-learning-and-look-alike-models-onl01-dtsc-ft-030220/index.ipynb)<br>\n",
    "\n",
    "\n",
    "[clustering-recap](./dsc-clustering-recap-onl01-dtsc-ft-030220/index.ipynb)<br>\n"
   ]
  },
  {
   "cell_type": "code",
   "execution_count": null,
   "metadata": {},
   "outputs": [],
   "source": []
  }
 ],
 "metadata": {
  "kernelspec": {
   "display_name": "Python 3",
   "language": "python",
   "name": "python3"
  },
  "language_info": {
   "codemirror_mode": {
    "name": "ipython",
    "version": 3
   },
   "file_extension": ".py",
   "mimetype": "text/x-python",
   "name": "python",
   "nbconvert_exporter": "python",
   "pygments_lexer": "ipython3",
   "version": "3.6.9"
  },
  "toc": {
   "base_numbering": 1,
   "nav_menu": {},
   "number_sections": true,
   "sideBar": true,
   "skip_h1_title": true,
   "title_cell": "Table of Contents",
   "title_sidebar": "Contents",
   "toc_cell": false,
   "toc_position": {},
   "toc_section_display": true,
   "toc_window_display": false
  }
 },
 "nbformat": 4,
 "nbformat_minor": 2
}
