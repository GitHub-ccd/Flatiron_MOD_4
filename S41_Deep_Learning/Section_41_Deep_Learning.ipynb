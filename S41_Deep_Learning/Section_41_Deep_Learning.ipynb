{
 "cells": [
  {
   "cell_type": "markdown",
   "metadata": {},
   "source": [
    "# Section 41 -Deep Learning lessons and labs\n",
    "\n",
    "[deep-learning-section-intro](./dsc-deep-learning-section-intro-onl01-dtsc-ft-030220/index.ipynb)<br>\n",
    "\n",
    "\n",
    "[deeper-neural-networks](./dsc-deeper-neural-networks-onl01-dtsc-ft-030220/index.ipynb)<br>\n",
    "- Explain the mechanics of a deep neural network \n",
    "- Explain the purpose of an activation function in a neural network \n",
    "- List the different activation functions  \n",
    "- Compare and contrast the different activation functions \n",
    "\n",
    "\n",
    "[deeper-neural-networks-lab](./dsc-deeper-neural-networks-lab-onl01-dtsc-ft-030220/index.ipynb)<br>\n",
    "MLP with Boston Breast Cancer Dataset. 3 models considered\n",
    "\n",
    "[image-classification-with-mlps](./dsc-image-classification-with-mlps-onl01-dtsc-ft-030220/index.ipynb)<br>\n",
    "- Explain what is meant by \"deep representations\" of images \n",
    "- Mathematically represent forward and back propagation in a deep neural network \n",
    "\n",
    "[image-classification-with-mlps-lab](./dsc-image-classification-with-mlps-lab-onl01-dtsc-ft-030220/index.ipynb)<br>\n",
    " **_Multi-Layer Perceptron_** to solve image classification for a classic dataset, MNIST! \n",
    "\n",
    "[deep-learning-section-recap](./dsc-deep-learning-section-recap-onl01-dtsc-ft-030220/index.ipynb)<br>"
   ]
  },
  {
   "cell_type": "code",
   "execution_count": null,
   "metadata": {},
   "outputs": [],
   "source": []
  }
 ],
 "metadata": {
  "kernelspec": {
   "display_name": "Python 3",
   "language": "python",
   "name": "python3"
  },
  "language_info": {
   "codemirror_mode": {
    "name": "ipython",
    "version": 3
   },
   "file_extension": ".py",
   "mimetype": "text/x-python",
   "name": "python",
   "nbconvert_exporter": "python",
   "pygments_lexer": "ipython3",
   "version": "3.6.9"
  },
  "toc": {
   "base_numbering": 1,
   "nav_menu": {},
   "number_sections": true,
   "sideBar": true,
   "skip_h1_title": true,
   "title_cell": "Table of Contents",
   "title_sidebar": "Contents",
   "toc_cell": false,
   "toc_position": {},
   "toc_section_display": true,
   "toc_window_display": false
  }
 },
 "nbformat": 4,
 "nbformat_minor": 2
}
