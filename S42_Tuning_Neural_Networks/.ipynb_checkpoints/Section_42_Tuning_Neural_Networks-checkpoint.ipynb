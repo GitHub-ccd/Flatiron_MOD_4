{
 "cells": [
  {
   "cell_type": "markdown",
   "metadata": {},
   "source": [
    "# Section 42 - Tuning Neural Networks lessons and labs\n",
    "\n",
    "[tuning-neural-networks-intro](./dsc-tuning-neural-networks-intro-onl01-dtsc-ft-030220/index.ipynb)<br>\n",
    "\n",
    "\n",
    "[tuning-neural-networks-with-regularization](./dsc-tuning-neural-networks-with-regularization-onl01-dtsc-ft-030220/index.ipynb)<br>\n",
    "\n",
    "\n",
    "[tuning-neural-networks-with-regularization-lab-v2-1](./dsc-tuning-neural-networks-with-regularization-lab-v2-1-onl01-dtsc-ft-030220/index.ipynb)<br>\n",
    "\n",
    "\n",
    "[tuning-neural-networks-with-normalization](./dsc-tuning-neural-networks-with-normalization-onl01-dtsc-ft-030220/index.ipynb)<br>\n",
    "\n",
    "\n",
    "[tuning-neural-networks-with-normalization-lab-v2-1](./dsc-tuning-neural-networks-with-normalization-lab-v2-1-onl01-dtsc-ft-030220/index.ipynb)<br>\n",
    "\n",
    "\n",
    "[tuning-neural-networks-from-start-to-finish-lab-v2-1](./dsc-tuning-neural-networks-from-start-to-finish-lab-v2-1-onl01-dtsc-ft-030220/index.ipynb)<br>\n",
    "\n",
    "\n",
    "[tuning-neural-networks-recap](./dsc-tuning-neural-networks-recap-onl01-dtsc-ft-030220/index.ipynb)<br>\n"
   ]
  },
  {
   "cell_type": "code",
   "execution_count": null,
   "metadata": {},
   "outputs": [],
   "source": []
  }
 ],
 "metadata": {
  "kernelspec": {
   "display_name": "Python 3",
   "language": "python",
   "name": "python3"
  },
  "language_info": {
   "codemirror_mode": {
    "name": "ipython",
    "version": 3
   },
   "file_extension": ".py",
   "mimetype": "text/x-python",
   "name": "python",
   "nbconvert_exporter": "python",
   "pygments_lexer": "ipython3",
   "version": "3.6.9"
  },
  "toc": {
   "base_numbering": 1,
   "nav_menu": {},
   "number_sections": true,
   "sideBar": true,
   "skip_h1_title": true,
   "title_cell": "Table of Contents",
   "title_sidebar": "Contents",
   "toc_cell": false,
   "toc_position": {},
   "toc_section_display": true,
   "toc_window_display": false
  }
 },
 "nbformat": 4,
 "nbformat_minor": 2
}
