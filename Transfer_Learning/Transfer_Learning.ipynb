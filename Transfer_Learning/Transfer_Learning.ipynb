{
 "cells": [
  {
   "cell_type": "markdown",
   "metadata": {},
   "source": [
    "# Transfer Learning lessons and labs\n",
    "\n",
    "[transfer-learning-intro](./dsc-transfer-learning-intro-onl01-dtsc-ft-030220/index.ipynb)<br>\n",
    "\n",
    "\n",
    "[using-pretrained-networks](./dsc-using-pretrained-networks-onl01-dtsc-ft-030220/index.ipynb)<br>\n",
    "- VGG-19 was trained on the ImageNet dataset which contains approximately 1.2 million images.\n",
    "- Describe the benefits of using pretrained networks \n",
    "- Explain how pre-trained neural networks are used for feature extraction \n",
    "- Explain what \"freezing\" and \"unfreezing\" a layer means in a neural network \n",
    "\n",
    "[using-pretrained-networks-codealong](./dsc-using-pretrained-networks-codealong-onl01-dtsc-ft-030220/index.ipynb)<br>\n",
    "- Explain what \"freezing\" and \"unfreezing\" a layer means in a neural network \n",
    "- Implement feature engineering and fine tuning on a pre-trained model \n",
    "- Use Keras to adapt a pretrained CNN \n",
    "\n",
    "[image-classification-lab](./dsc-image-classification-lab-onl01-dtsc-ft-030220/index.ipynb)<br>\n",
    "\n",
    "\n",
    "[transfer-learning-recap](./dsc-transfer-learning-recap-onl01-dtsc-ft-030220/index.ipynb)<br>\n",
    "\n"
   ]
  },
  {
   "cell_type": "code",
   "execution_count": null,
   "metadata": {},
   "outputs": [],
   "source": []
  }
 ],
 "metadata": {
  "kernelspec": {
   "display_name": "Python 3",
   "language": "python",
   "name": "python3"
  },
  "language_info": {
   "codemirror_mode": {
    "name": "ipython",
    "version": 3
   },
   "file_extension": ".py",
   "mimetype": "text/x-python",
   "name": "python",
   "nbconvert_exporter": "python",
   "pygments_lexer": "ipython3",
   "version": "3.6.9"
  },
  "toc": {
   "base_numbering": 1,
   "nav_menu": {},
   "number_sections": true,
   "sideBar": true,
   "skip_h1_title": true,
   "title_cell": "Table of Contents",
   "title_sidebar": "Contents",
   "toc_cell": false,
   "toc_position": {},
   "toc_section_display": true,
   "toc_window_display": false
  }
 },
 "nbformat": 4,
 "nbformat_minor": 2
}
