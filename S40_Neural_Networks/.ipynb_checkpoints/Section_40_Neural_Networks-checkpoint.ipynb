{
 "cells": [
  {
   "cell_type": "markdown",
   "metadata": {},
   "source": [
    "# Section 40 - Neural Networks lessons and labs\n",
    "\n",
    "[neural-networks-section-intro](./dsc-neural-networks-section-intro-onl01-dtsc-ft-030220/index.ipynb)<br>\n",
    "\n",
    "\n",
    "[introduction-to-neural-networks](./dsc-introduction-to-neural-networks-onl01-dtsc-ft-030220/index.ipynb)<br>\n",
    "\n",
    "\n",
    "[introduction-to-neural-networks-lab](./dsc-introduction-to-neural-networks-lab-onl01-dtsc-ft-030220/index.ipynb)<br>\n",
    "\n",
    "\n",
    "[introduction-to-keras](./dsc-introduction-to-keras-onl01-dtsc-ft-030220/index.ipynb)<br>\n",
    "\n",
    "\n",
    "[introduction-to-keras-lab](./dsc-introduction-to-keras-lab-onl01-dtsc-ft-030220/index.ipynb)<br>\n",
    "\n",
    "\n",
    "[neural-networks-section-recap](./dsc-neural-networks-section-recap-onl01-dtsc-ft-030220/index.ipynb)<br>\n",
    "\n"
   ]
  },
  {
   "cell_type": "code",
   "execution_count": null,
   "metadata": {},
   "outputs": [],
   "source": []
  }
 ],
 "metadata": {
  "kernelspec": {
   "display_name": "Python 3",
   "language": "python",
   "name": "python3"
  },
  "language_info": {
   "codemirror_mode": {
    "name": "ipython",
    "version": 3
   },
   "file_extension": ".py",
   "mimetype": "text/x-python",
   "name": "python",
   "nbconvert_exporter": "python",
   "pygments_lexer": "ipython3",
   "version": "3.6.9"
  },
  "toc": {
   "base_numbering": 1,
   "nav_menu": {},
   "number_sections": true,
   "sideBar": true,
   "skip_h1_title": true,
   "title_cell": "Table of Contents",
   "title_sidebar": "Contents",
   "toc_cell": false,
   "toc_position": {},
   "toc_section_display": true,
   "toc_window_display": false
  }
 },
 "nbformat": 4,
 "nbformat_minor": 2
}
